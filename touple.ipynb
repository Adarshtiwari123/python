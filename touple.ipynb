{
  "nbformat": 4,
  "nbformat_minor": 0,
  "metadata": {
    "colab": {
      "provenance": [],
      "collapsed_sections": []
    },
    "kernelspec": {
      "name": "python3",
      "display_name": "Python 3"
    },
    "language_info": {
      "name": "python"
    }
  },
  "cells": [
    {
      "cell_type": "code",
      "execution_count": null,
      "metadata": {
        "colab": {
          "base_uri": "https://localhost:8080/"
        },
        "id": "_Wk2uKFzNcBF",
        "outputId": "823ed8b1-963f-449c-ac2d-e187d11f218e"
      },
      "outputs": [
        {
          "output_type": "stream",
          "name": "stdout",
          "text": [
            "[1, 2, 3, 4, 5, 6]\n"
          ]
        }
      ],
      "source": [
        "#tuple:tuple is like the list except it is immutable(not changable).once you created the tuple objectcannot be perform any change\n",
        "#dublicates  are allowed\n",
        "#heterogenous   object are allowed\n",
        "#tuple have both positive and negative indexes\n",
        "#syntax t=(elements)"
      ]
    },
    {
      "cell_type": "code",
      "source": [
        "#wap to print the sum and average ofa tuple by the mean of user input\n"
      ],
      "metadata": {
        "id": "8lW1hOAGgRGc"
      },
      "execution_count": null,
      "outputs": []
    },
    {
      "cell_type": "code",
      "source": [
        "t=eval(input(\"enter tuple\"))\n",
        "print(t)"
      ],
      "metadata": {
        "colab": {
          "base_uri": "https://localhost:8080/"
        },
        "id": "eIU013rwhSJv",
        "outputId": "b51bd796-1d2b-4750-86d6-7beed594018d"
      },
      "execution_count": null,
      "outputs": [
        {
          "output_type": "stream",
          "name": "stdout",
          "text": [
            "enter tuple111111\n",
            "111111\n"
          ]
        }
      ]
    },
    {
      "cell_type": "code",
      "source": [
        "t=(1,2)\n",
        "print(t,type(t))"
      ],
      "metadata": {
        "colab": {
          "base_uri": "https://localhost:8080/"
        },
        "id": "s7oDjVemQe3R",
        "outputId": "89f124d7-8b12-4220-f883-4a9ae79edb5b"
      },
      "execution_count": null,
      "outputs": [
        {
          "output_type": "stream",
          "name": "stdout",
          "text": [
            "(1, 2) <class 'tuple'>\n"
          ]
        }
      ]
    },
    {
      "cell_type": "code",
      "source": [
        "t=10,20,30\n",
        "print(t,type(t))"
      ],
      "metadata": {
        "colab": {
          "base_uri": "https://localhost:8080/"
        },
        "id": "INIMSHLSRD6A",
        "outputId": "4c32530b-28b6-4bf5-8a8c-8857dedb5db1"
      },
      "execution_count": null,
      "outputs": [
        {
          "output_type": "stream",
          "name": "stdout",
          "text": [
            "(10, 20, 30) <class 'tuple'>\n"
          ]
        }
      ]
    },
    {
      "cell_type": "code",
      "source": [
        "t=10\n",
        "print(t,type(t))"
      ],
      "metadata": {
        "colab": {
          "base_uri": "https://localhost:8080/"
        },
        "id": "EKlpEO04N2uh",
        "outputId": "fea829e8-df32-4c9c-8d6d-52a1d62395b6"
      },
      "execution_count": null,
      "outputs": [
        {
          "output_type": "stream",
          "name": "stdout",
          "text": [
            "10 <class 'int'>\n"
          ]
        }
      ]
    },
    {
      "cell_type": "code",
      "source": [
        "t=(10)\n",
        "print(t,type(t))"
      ],
      "metadata": {
        "colab": {
          "base_uri": "https://localhost:8080/"
        },
        "id": "9Jt9aspORXLR",
        "outputId": "126ea4ff-2ba5-4535-e523-46a5003e5158"
      },
      "execution_count": null,
      "outputs": [
        {
          "output_type": "stream",
          "name": "stdout",
          "text": [
            "(10, 2.3) <class 'tuple'>\n"
          ]
        }
      ]
    },
    {
      "cell_type": "code",
      "source": [
        "t=(10,)\n",
        "print(t,type(t))"
      ],
      "metadata": {
        "colab": {
          "base_uri": "https://localhost:8080/"
        },
        "id": "QIlnMQdURl00",
        "outputId": "9e4e326a-d592-4d17-f058-55f860c85434"
      },
      "execution_count": null,
      "outputs": [
        {
          "output_type": "stream",
          "name": "stdout",
          "text": [
            "(10,) <class 'tuple'>\n"
          ]
        }
      ]
    },
    {
      "cell_type": "code",
      "source": [
        "#which are following are used for tuple\n",
        "#t=()T\n",
        "#t=10,20,30 =t\n",
        "#t=(10,20,30)=t\n",
        "#t=10=f\n",
        "#t=10,=t\n"
      ],
      "metadata": {
        "id": "NU36YpWBRwug"
      },
      "execution_count": null,
      "outputs": []
    },
    {
      "cell_type": "code",
      "source": [
        "t=()\n",
        "print(t,type(t))"
      ],
      "metadata": {
        "colab": {
          "base_uri": "https://localhost:8080/"
        },
        "id": "1eR1ZY0eSvAM",
        "outputId": "484b5b8e-53fd-494e-c299-3c11fc7057aa"
      },
      "execution_count": null,
      "outputs": [
        {
          "output_type": "stream",
          "name": "stdout",
          "text": [
            "() <class 'tuple'>\n"
          ]
        }
      ]
    },
    {
      "cell_type": "code",
      "source": [
        "#access tuple by using the index\n",
        "t=(20,30,40,'prakhar',20)\n",
        "m=0\n",
        "for i in t:\n",
        "  print(\"index values are \",m,\"and tuple value are\",i)\n",
        "  m=m+1"
      ],
      "metadata": {
        "colab": {
          "base_uri": "https://localhost:8080/"
        },
        "id": "OmRmqdGVS8iK",
        "outputId": "d9738b51-4b3b-49f2-93c4-a2605bff46e4"
      },
      "execution_count": null,
      "outputs": [
        {
          "output_type": "stream",
          "name": "stdout",
          "text": [
            "index values are  0 and touple value are 20\n",
            "index values are  1 and touple value are 30\n",
            "index values are  2 and touple value are 40\n",
            "index values are  3 and touple value are prakhar\n",
            "index values are  4 and touple value are 20\n"
          ]
        }
      ]
    },
    {
      "cell_type": "code",
      "source": [
        "#converting list into tuple\n",
        "list=[10,20,30]\n",
        "t=tuple(list)\n",
        "print(t,type(t))"
      ],
      "metadata": {
        "colab": {
          "base_uri": "https://localhost:8080/"
        },
        "id": "KbzY56V1TY5Y",
        "outputId": "cbc28b59-810c-466f-8f47-9acb7c3ec08e"
      },
      "execution_count": null,
      "outputs": [
        {
          "output_type": "stream",
          "name": "stdout",
          "text": [
            "(10, 20, 30) <class 'tuple'>\n"
          ]
        }
      ]
    },
    {
      "cell_type": "code",
      "source": [
        "#wap to print the negative indexes of the tuple\n",
        "#slicing is also done in tuple\n",
        "#indexing will be occur in both side +ve and -ve bt in right side and left side\n",
        "t=(3,5,6,34,234,2,3)\n",
        "print(t[0])\n",
        "print(t[1])\n",
        "print(t[2])\n",
        "print(t[3])\n",
        "print(t[4])\n",
        "print(t[5])\n",
        "print(t[-1])\n",
        "print(t[-2])\n",
        "print(t[-3])\n",
        "print(t[-4])\n"
      ],
      "metadata": {
        "colab": {
          "base_uri": "https://localhost:8080/"
        },
        "id": "CbuZeodySnft",
        "outputId": "6a3247bc-0de4-4bfe-fdde-0af09820eac2"
      },
      "execution_count": null,
      "outputs": [
        {
          "output_type": "stream",
          "name": "stdout",
          "text": [
            "3\n",
            "5\n",
            "6\n",
            "34\n",
            "234\n",
            "2\n",
            "3\n",
            "2\n",
            "234\n",
            "34\n"
          ]
        }
      ]
    },
    {
      "cell_type": "code",
      "source": [
        "#using slicing operator  [start:end:step]\n",
        "t=(1,20,30,44,55,11,9,10,23)\n",
        "#output(20,30)\n",
        "#output(20,30,44,55),output(23),output(1,20,30,44,55,11,9,10,),(20,30,44,55,11,9,10,23),(44,55,11,9,10,),(44,55)\n"
      ],
      "metadata": {
        "id": "GM3qtA2GW8Kn"
      },
      "execution_count": null,
      "outputs": []
    },
    {
      "cell_type": "code",
      "source": [
        "#mathematical operator : +=concatenation\n",
        "  #                       *=multiplication\n",
        "#append():add the last element\n",
        "#extend():add the two list\n",
        "\n",
        "t=(1,2,56,7,7,8,3,10)\n",
        "t1=(2,3,5,6,7,8,8,9,0,10)\n",
        "t3=t+t1+t\n",
        "print(t3)"
      ],
      "metadata": {
        "colab": {
          "base_uri": "https://localhost:8080/"
        },
        "id": "kBtcHa8lZTUY",
        "outputId": "80a33be9-d1a5-4a8a-b549-8a6a71f1ba29"
      },
      "execution_count": null,
      "outputs": [
        {
          "output_type": "stream",
          "name": "stdout",
          "text": [
            "(1, 2, 56, 7, 7, 8, 3, 10, 2, 3, 5, 6, 7, 8, 8, 9, 0, 10, 1, 2, 56, 7, 7, 8, 3, 10)\n"
          ]
        }
      ]
    },
    {
      "cell_type": "code",
      "source": [
        "#*\n",
        "t=(1,2,6,7,8,9,10,34)\n",
        "t=t*2\n",
        "print(t)"
      ],
      "metadata": {
        "colab": {
          "base_uri": "https://localhost:8080/"
        },
        "id": "x2U5CXszbQ1c",
        "outputId": "06194bef-fe7e-420e-f658-0379343880bb"
      },
      "execution_count": null,
      "outputs": [
        {
          "output_type": "stream",
          "name": "stdout",
          "text": [
            "(1, 2, 6, 7, 8, 9, 10, 34, 1, 2, 6, 7, 8, 9, 10, 34)\n"
          ]
        }
      ]
    },
    {
      "cell_type": "code",
      "source": [
        "#functions using in a tuple:\n",
        "#len():it returns the length of the tuple\n",
        "t=(1,2,45,6,78,8,8,9,90,0,10,2,2,3,3,4,4,5,5,5,6,6,6,7,788,89,9,10,20)\n",
        "t1=len(t)\n",
        "print(t1)"
      ],
      "metadata": {
        "colab": {
          "base_uri": "https://localhost:8080/"
        },
        "id": "7dRs5X28bgjT",
        "outputId": "aff8a09b-8b7b-45cb-9af4-8a6c2c50c48a"
      },
      "execution_count": null,
      "outputs": [
        {
          "output_type": "stream",
          "name": "stdout",
          "text": [
            "29\n"
          ]
        }
      ]
    },
    {
      "cell_type": "code",
      "source": [
        "t=(1,20,30,44,55,11,9,10,23,64,78,4,76)\n",
        "for i in range(len(t)):\n",
        "  if(t[i]%2==0):\n",
        "    print(t[i])"
      ],
      "metadata": {
        "colab": {
          "base_uri": "https://localhost:8080/"
        },
        "id": "6sj0JgKkZ8F6",
        "outputId": "a5e7e9ca-3389-4e54-fb43-a15750203a10"
      },
      "execution_count": null,
      "outputs": [
        {
          "output_type": "stream",
          "name": "stdout",
          "text": [
            "20\n",
            "30\n",
            "44\n",
            "10\n",
            "64\n",
            "78\n",
            "4\n",
            "76\n"
          ]
        }
      ]
    },
    {
      "cell_type": "code",
      "source": [
        "#count():counts the no occurence of the elements\n",
        "t=(10,20,30,40,50,50,10,\"hello\",\"wello\",\"fello\",\"pello\",\"yello\")\n",
        "p=t.count(50)\n",
        "print(p) "
      ],
      "metadata": {
        "colab": {
          "base_uri": "https://localhost:8080/"
        },
        "id": "DU4Xjafrdhiw",
        "outputId": "c6d27795-50eb-4046-ad5e-a1f6be74d457"
      },
      "execution_count": null,
      "outputs": [
        {
          "output_type": "stream",
          "name": "stdout",
          "text": [
            "2\n"
          ]
        }
      ]
    },
    {
      "cell_type": "code",
      "source": [
        "#index():returns the particular  value in a tuple\n",
        "t=(10,20,40,55,76,87,56)\n",
        "p=t.index(40)\n",
        "print(p)"
      ],
      "metadata": {
        "colab": {
          "base_uri": "https://localhost:8080/"
        },
        "id": "RgB_OnoLeNis",
        "outputId": "d2267a08-fe49-406d-e0d9-64abc94c7b08"
      },
      "execution_count": null,
      "outputs": [
        {
          "output_type": "stream",
          "name": "stdout",
          "text": [
            "True\n",
            "2\n"
          ]
        }
      ]
    },
    {
      "cell_type": "code",
      "source": [
        "#sortred():In the arrangement of the ascending order\n",
        "t=(22,44,52,12,13,41,9,8,33,11,10)\n",
        "p=sorted(t)\n",
        "print(p)"
      ],
      "metadata": {
        "colab": {
          "base_uri": "https://localhost:8080/"
        },
        "id": "qwB6jdkhexKV",
        "outputId": "7e23851a-413a-45f5-c35e-360e277b7c79"
      },
      "execution_count": null,
      "outputs": [
        {
          "output_type": "stream",
          "name": "stdout",
          "text": [
            "[8, 9, 10, 11, 12, 13, 22, 33, 41, 44, 52]\n"
          ]
        }
      ]
    },
    {
      "cell_type": "code",
      "source": [
        "#do the programs of sorting ,slicing,function,operators,"
      ],
      "metadata": {
        "id": "bXoBAUekddHq"
      },
      "execution_count": null,
      "outputs": []
    },
    {
      "cell_type": "code",
      "source": [
        "t1=()\n",
        "a=0\n",
        "t1=eval(input('Enter the values of tuple->'))\n",
        "for i in range(len(t1)):\n",
        "  a=a+t1[i]\n",
        "print('The sum is',a)\n",
        "print('The average is',a/len(t1))"
      ],
      "metadata": {
        "colab": {
          "base_uri": "https://localhost:8080/"
        },
        "id": "qBVWIcBpc5p1",
        "outputId": "af826053-9df5-46c1-b4af-b4f52ff9ae46"
      },
      "execution_count": null,
      "outputs": [
        {
          "output_type": "stream",
          "name": "stdout",
          "text": [
            "Enter the values of tuple->10,20,30,40\n",
            "The sum is 100\n",
            "The average is 25.0\n"
          ]
        }
      ]
    },
    {
      "cell_type": "code",
      "source": [
        "t=eval(input(\"enter your tuple : - \"))\n",
        "s=0\n",
        "l=len(t)\n",
        "for i in t:\n",
        "  s=s+i\n",
        "print(\"the sum is: \",s)\n",
        "print(\"the avg is: \",s/l)"
      ],
      "metadata": {
        "colab": {
          "base_uri": "https://localhost:8080/"
        },
        "id": "lQ4_srlpkAUh",
        "outputId": "c5029931-acfa-4f94-e11e-cfe493645493"
      },
      "execution_count": null,
      "outputs": [
        {
          "output_type": "stream",
          "name": "stdout",
          "text": [
            "enter your tuple : - 10,20,30,40\n",
            "the sum is:  100\n",
            "the avg is:  25.0\n"
          ]
        }
      ]
    },
    {
      "cell_type": "code",
      "source": [
        "#tuple packing :\n",
        "a=10\n",
        "b=20\n",
        "c=30\n",
        "d=40\n",
        "t=a,b,c,d\n",
        "print(t,type(t))"
      ],
      "metadata": {
        "colab": {
          "base_uri": "https://localhost:8080/"
        },
        "id": "S31BuFscknoi",
        "outputId": "a1272f73-fb89-41a6-c13e-d7a194201569"
      },
      "execution_count": null,
      "outputs": [
        {
          "output_type": "stream",
          "name": "stdout",
          "text": [
            "(10, 20, 30, 40) <class 'tuple'>\n"
          ]
        }
      ]
    },
    {
      "cell_type": "code",
      "source": [
        "t=a,b,c=10,20,30\n",
        "print(t)"
      ],
      "metadata": {
        "colab": {
          "base_uri": "https://localhost:8080/"
        },
        "id": "VzZ3ZDljk4C-",
        "outputId": "bac3d5ce-6bea-47b7-e059-e265d9a1a06e"
      },
      "execution_count": null,
      "outputs": [
        {
          "output_type": "stream",
          "name": "stdout",
          "text": [
            "(10, 20, 30)\n"
          ]
        }
      ]
    },
    {
      "cell_type": "code",
      "source": [
        "t=(10,20,30,40)\n",
        "a,b,c,d=t\n",
        "print(\"a=\",a,\"b=\",b,\"c=\",c,\"d=\",d,t)"
      ],
      "metadata": {
        "colab": {
          "base_uri": "https://localhost:8080/"
        },
        "id": "GxntBsoblAx2",
        "outputId": "8677747d-c363-44c5-c44c-169a0fa3b554"
      },
      "execution_count": null,
      "outputs": [
        {
          "output_type": "stream",
          "name": "stdout",
          "text": [
            "a= 10 b= 20 c= 30 d= 40 (10, 20, 30, 40)\n"
          ]
        }
      ]
    },
    {
      "cell_type": "code",
      "source": [
        "a=10\n",
        "b=20\n",
        "c=30\n",
        "l=[a,b,c]\n",
        "print(l)"
      ],
      "metadata": {
        "colab": {
          "base_uri": "https://localhost:8080/"
        },
        "id": "9pHltdbBlPxO",
        "outputId": "2686e6cf-b510-40eb-92b6-c68cde790b76"
      },
      "execution_count": null,
      "outputs": [
        {
          "output_type": "stream",
          "name": "stdout",
          "text": [
            "(10, 20, 30)\n"
          ]
        }
      ]
    },
    {
      "cell_type": "code",
      "source": [
        "t=(10,20,30,40,50,99)\n",
        "t[0]=20\n",
        "print(t)"
      ],
      "metadata": {
        "colab": {
          "base_uri": "https://localhost:8080/"
        },
        "id": "_t0lnzxilkjR",
        "outputId": "02f871f7-c51b-4d74-c979-2c92d0021524"
      },
      "execution_count": null,
      "outputs": [
        {
          "output_type": "stream",
          "name": "stdout",
          "text": [
            "[200, 20, 30, 40, 50, 99]\n"
          ]
        }
      ]
    },
    {
      "cell_type": "code",
      "source": [
        "#write a difference between list and tuple"
      ],
      "metadata": {
        "id": "fob3UF8Zlyo9"
      },
      "execution_count": null,
      "outputs": []
    },
    {
      "cell_type": "code",
      "source": [],
      "metadata": {
        "id": "-2YQfhcCj45H"
      },
      "execution_count": null,
      "outputs": []
    }
  ]
}