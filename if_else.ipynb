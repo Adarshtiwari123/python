{
  "nbformat": 4,
  "nbformat_minor": 0,
  "metadata": {
    "colab": {
      "provenance": []
    },
    "kernelspec": {
      "name": "python3",
      "display_name": "Python 3"
    },
    "language_info": {
      "name": "python"
    }
  },
  "cells": [
    {
      "cell_type": "code",
      "metadata": {
        "id": "lNYbk3-jWKst"
      },
      "source": [
        "z=12\n",
        "x=10\n",
        "if z<x:\n",
        "  print('hello')"
      ],
      "execution_count": null,
      "outputs": []
    },
    {
      "cell_type": "code",
      "metadata": {
        "id": "_HHadOidBXm5"
      },
      "source": [],
      "execution_count": null,
      "outputs": []
    },
    {
      "cell_type": "code",
      "metadata": {
        "colab": {
          "base_uri": "https://localhost:8080/"
        },
        "id": "JbhIkUDTWcFh",
        "outputId": "249866ed-547f-4094-adea-d71ebea4c7ca"
      },
      "source": [
        "age=20\n",
        "if age>20:\n",
        "  print(\"adult\")\n",
        "else:\n",
        "         print(\"tm bache ho\")\n"
      ],
      "execution_count": null,
      "outputs": [
        {
          "output_type": "stream",
          "name": "stdout",
          "text": [
            "tm bache ho\n"
          ]
        }
      ]
    },
    {
      "cell_type": "code",
      "metadata": {
        "colab": {
          "base_uri": "https://localhost:8080/"
        },
        "id": "SzjEsYSuXmn-",
        "outputId": "460d5fea-e577-4f84-c539-346ae1cffbc7"
      },
      "source": [
        "age=18\n",
        "if(age>=20):\n",
        "  print('adult hu bc ')\n",
        "elif(age==18):\n",
        "   print('new voter op')\n",
        "else:\n",
        "  print('glt saal mae born ho gye')\n"
      ],
      "execution_count": null,
      "outputs": [
        {
          "output_type": "stream",
          "name": "stdout",
          "text": [
            "new voter op\n"
          ]
        }
      ]
    },
    {
      "cell_type": "code",
      "metadata": {
        "id": "080xkjb0aRMP"
      },
      "source": [],
      "execution_count": null,
      "outputs": []
    },
    {
      "cell_type": "code",
      "metadata": {
        "colab": {
          "base_uri": "https://localhost:8080/"
        },
        "id": "D7dK_1O6UXkY",
        "outputId": "f6976d44-2902-4fed-d7a0-847a10d0826b"
      },
      "source": [
        "a=10\n",
        "b=12\n",
        "if (a>b):\n",
        "  print('true')\n",
        "print('false')"
      ],
      "execution_count": null,
      "outputs": [
        {
          "output_type": "stream",
          "name": "stdout",
          "text": [
            "false\n"
          ]
        }
      ]
    }
  ]
}