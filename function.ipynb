{
  "nbformat": 4,
  "nbformat_minor": 0,
  "metadata": {
    "colab": {
      "provenance": [],
      "collapsed_sections": []
    },
    "kernelspec": {
      "name": "python3",
      "display_name": "Python 3"
    },
    "language_info": {
      "name": "python"
    }
  },
  "cells": [
    {
      "cell_type": "code",
      "execution_count": null,
      "metadata": {
        "id": "m9xDC6s4g7td"
      },
      "outputs": [],
      "source": [
        "#function:  a group of statements which is used repeatedly  required which is not rewrite that code everytime seperately.\n",
        "#we have to write the code at one time and used that code when we want to use it(call it)..\n",
        "#by the means of function we use the code reusebility.(again and again).\n",
        "#function are always two type\n",
        "#Built-in function\n",
        "#user function defined"
      ]
    },
    {
      "cell_type": "code",
      "source": [
        "#examples of built in functions\n",
        "#a=input(\"enter number\")\n",
        "#print(a)#function\n",
        "#type() #which type of data is hold by the variable\n",
        "#id()\n",
        "#int()\n",
        "#eval()\n",
        "#bool()"
      ],
      "metadata": {
        "colab": {
          "base_uri": "https://localhost:8080/"
        },
        "id": "gnuU1xwN5JkA",
        "outputId": "029c895e-a7f0-4112-ef56-93ee424c3999"
      },
      "execution_count": null,
      "outputs": [
        {
          "output_type": "stream",
          "name": "stdout",
          "text": [
            "enter numberadarsh tiwari\n",
            "adarsh tiwari\n"
          ]
        }
      ]
    },
    {
      "cell_type": "code",
      "source": [
        "#user defined function: Function is defined by the user for doing a specific work..\n",
        "#syntax  def function_name(parameter):\n",
        "           #function _declaration\n",
        "           #return value\n",
        "#def (mandataory)\n",
        "#return (optional)\n",
        "\n",
        "\n"
      ],
      "metadata": {
        "id": "z2Bk0zWx5pu7"
      },
      "execution_count": null,
      "outputs": []
    },
    {
      "cell_type": "code",
      "source": [
        "#write a program to print the hello world by using UDF.\n",
        "def hello(): #function definition\n",
        "  print(\"hello world\") #function declaration\n",
        "hello() #function calling\n",
        "#print(type(hello())) #return  type(none type)\n"
      ],
      "metadata": {
        "colab": {
          "base_uri": "https://localhost:8080/"
        },
        "id": "6YAKCPsc63W7",
        "outputId": "96c2514e-1499-4316-f8dc-a68f9c808c97"
      },
      "execution_count": null,
      "outputs": [
        {
          "output_type": "stream",
          "name": "stdout",
          "text": [
            "hello world\n",
            "hello world\n",
            "<class 'NoneType'>\n"
          ]
        }
      ]
    },
    {
      "cell_type": "code",
      "source": [
        "def world(name):\n",
        "  print(\"hello \",name)\n",
        "world(\"prakhar\")\n",
        "world(\"adarsh\")\n",
        "world(12)\n",
        "world(22.22)\n"
      ],
      "metadata": {
        "colab": {
          "base_uri": "https://localhost:8080/"
        },
        "id": "z0x5Z6K97XgU",
        "outputId": "3019b297-d25c-4d91-f2e3-bcbf33740ca3"
      },
      "execution_count": null,
      "outputs": [
        {
          "output_type": "stream",
          "name": "stdout",
          "text": [
            "hello  prakhar\n",
            "hello  adarsh\n",
            "hello  12\n",
            "hello  22.22\n"
          ]
        }
      ]
    },
    {
      "cell_type": "code",
      "source": [
        "#write a function to print the sum of a two no\n",
        "def sum(a,b):\n",
        "  print(\"ssum : \",a+b)\n",
        "sum(2,3)"
      ],
      "metadata": {
        "colab": {
          "base_uri": "https://localhost:8080/"
        },
        "id": "nzzP65PN8eM0",
        "outputId": "04f54026-f619-4a7d-8a78-4b4863904e67"
      },
      "execution_count": null,
      "outputs": [
        {
          "output_type": "stream",
          "name": "stdout",
          "text": [
            "ssum :  5\n"
          ]
        }
      ]
    },
    {
      "cell_type": "code",
      "source": [
        "#write a program to print the square and cube of a no.\n",
        "def square(a):\n",
        "  print('Square is->',a*a)\n",
        "square(4)\n",
        "def cube(b):\n",
        "  print('Cube is->',b*b*b)\n",
        "cube(5)"
      ],
      "metadata": {
        "colab": {
          "base_uri": "https://localhost:8080/"
        },
        "id": "xTFy1ECO83l7",
        "outputId": "b608a403-a1d4-4e30-dd0e-3867197af542"
      },
      "execution_count": null,
      "outputs": [
        {
          "output_type": "stream",
          "name": "stdout",
          "text": [
            "Square is-> 16\n",
            "Cube is-> 125\n"
          ]
        }
      ]
    },
    {
      "cell_type": "code",
      "source": [
        "#write a program to print the even no\n",
        "def even(n):\n",
        "  if n%2==0:\n",
        "    print(\"this is even\")\n",
        "  else:\n",
        "    print(\"this is odd\")\n",
        "even(1)"
      ],
      "metadata": {
        "colab": {
          "base_uri": "https://localhost:8080/"
        },
        "id": "TANd2jTG8FL_",
        "outputId": "2abdcba4-d4e1-4a6f-c49c-b0612dc368b4"
      },
      "execution_count": null,
      "outputs": [
        {
          "output_type": "stream",
          "name": "stdout",
          "text": [
            "this is odd\n"
          ]
        }
      ]
    },
    {
      "cell_type": "code",
      "source": [
        "def evenodd(a):\n",
        "  if(a%2==0):\n",
        "    print('Even')\n",
        "  else:\n",
        "    print('Odd')\n",
        "evenodd(11)\n"
      ],
      "metadata": {
        "colab": {
          "base_uri": "https://localhost:8080/"
        },
        "id": "186k-RCA-nUH",
        "outputId": "d2870b9a-2f79-49d8-c48d-ba2b32d6e59e"
      },
      "execution_count": null,
      "outputs": [
        {
          "output_type": "stream",
          "name": "stdout",
          "text": [
            "Odd\n"
          ]
        }
      ]
    },
    {
      "cell_type": "code",
      "source": [
        "#factorial \n",
        "#5! =5*4*3*2*1\n",
        "#n=n*(n-1)"
      ],
      "metadata": {
        "id": "BktUVT8U-uqi"
      },
      "execution_count": null,
      "outputs": []
    },
    {
      "cell_type": "code",
      "source": [
        "def p(a,b):\n",
        "  s=a+b\n",
        "  \n",
        "  return s\n",
        "p(2,3)"
      ],
      "metadata": {
        "colab": {
          "base_uri": "https://localhost:8080/"
        },
        "id": "yVFLwfld_JUt",
        "outputId": "8ae59830-44bf-4c51-ea22-eec527de3720"
      },
      "execution_count": null,
      "outputs": [
        {
          "output_type": "execute_result",
          "data": {
            "text/plain": [
              "5"
            ]
          },
          "metadata": {},
          "execution_count": 19
        }
      ]
    },
    {
      "cell_type": "code",
      "source": [
        "def factorial(a):\n",
        "  b=1\n",
        "  for i in range(a,0,-1):\n",
        "    b=b*a\n",
        "    a=a-1\n",
        "  print('Factorial is',b)\n",
        "factorial(7)"
      ],
      "metadata": {
        "colab": {
          "base_uri": "https://localhost:8080/"
        },
        "id": "6swR4muQAFJU",
        "outputId": "13310207-04d9-440a-8862-6b7d7d3ec71f"
      },
      "execution_count": null,
      "outputs": [
        {
          "output_type": "stream",
          "name": "stdout",
          "text": [
            "Factorial is 5040\n"
          ]
        }
      ]
    },
    {
      "cell_type": "code",
      "source": [
        "#write code with while loop"
      ],
      "metadata": {
        "id": "JeuNiZyzAqYj"
      },
      "execution_count": null,
      "outputs": []
    },
    {
      "cell_type": "code",
      "source": [
        "#returning mulitiple values:\n",
        "def calc(a,b):\n",
        "  sum=a+b\n",
        "  sub=a-b\n",
        "  mul=a*b\n",
        "  div=a/b\n",
        "  return sum,sub,mul,div\n",
        "calc(2,3)"
      ],
      "metadata": {
        "colab": {
          "base_uri": "https://localhost:8080/"
        },
        "id": "UbFFDTURA0Zz",
        "outputId": "d99867b7-a19c-4b77-bf2c-749637df4fdf"
      },
      "execution_count": null,
      "outputs": [
        {
          "output_type": "execute_result",
          "data": {
            "text/plain": [
              "(5, -1, 6, 0.6666666666666666)"
            ]
          },
          "metadata": {},
          "execution_count": 27
        }
      ]
    },
    {
      "cell_type": "code",
      "source": [
        "x,y=10,20\n",
        "print(y,x)"
      ],
      "metadata": {
        "colab": {
          "base_uri": "https://localhost:8080/"
        },
        "id": "JF4fnqnKBj-s",
        "outputId": "7aaaf072-284d-4427-a872-2cfb34070adf"
      },
      "execution_count": null,
      "outputs": [
        {
          "output_type": "stream",
          "name": "stdout",
          "text": [
            "20 10\n"
          ]
        }
      ]
    },
    {
      "cell_type": "code",
      "source": [
        "#returning mulitiple values:\n",
        "def calc(a,b):\n",
        "  sum=a+b\n",
        "  sub=a-b\n",
        "  mul=a*b\n",
        "  div=a/b\n",
        "  print(\"sum\",sum)\n",
        "  print(\"subtract\",sub)\n",
        "  print(\"mul:\",mul)\n",
        "  print(\"div\",div)\n",
        "\n",
        "calc(2,3)"
      ],
      "metadata": {
        "colab": {
          "base_uri": "https://localhost:8080/"
        },
        "id": "OVLZLuObBqrJ",
        "outputId": "83c29029-4bc8-4eb7-efeb-ec0cceaae8fe"
      },
      "execution_count": null,
      "outputs": [
        {
          "output_type": "stream",
          "name": "stdout",
          "text": [
            "sum 5\n",
            "subtract -1\n",
            "mul: 6\n",
            "div 0.6666666666666666\n"
          ]
        }
      ]
    },
    {
      "cell_type": "code",
      "source": [
        "def calculator(x,y):\n",
        "  sum=x+y\n",
        "  sub=x-y\n",
        "  mul=x*y\n",
        "  div=x/y\n",
        "  t=sum,sub,mul,div\n",
        "  print(\"the result is :\")\n",
        "  for i in t:\n",
        "    print(i)\n",
        "  return sum,sub,mul,div\n",
        "calculator(100,50)"
      ],
      "metadata": {
        "colab": {
          "base_uri": "https://localhost:8080/"
        },
        "id": "sjaFKMO2CVUS",
        "outputId": "3e35bfc3-d22b-420d-e44a-625648916364"
      },
      "execution_count": null,
      "outputs": [
        {
          "output_type": "stream",
          "name": "stdout",
          "text": [
            "the result is :\n",
            "150\n",
            "50\n",
            "5000\n",
            "2.0\n"
          ]
        },
        {
          "output_type": "execute_result",
          "data": {
            "text/plain": [
              "(150, 50, 5000, 2.0)"
            ]
          },
          "metadata": {},
          "execution_count": 34
        }
      ]
    },
    {
      "cell_type": "code",
      "source": [
        "x,y=10,20\n",
        "print(\"before swapping: \",x,y)\n",
        "print(\"after swapping : \",y,x)"
      ],
      "metadata": {
        "colab": {
          "base_uri": "https://localhost:8080/"
        },
        "id": "yVjkSIAKDnfs",
        "outputId": "2cb3319c-aa5a-4661-ce7e-b2dd61a3af38"
      },
      "execution_count": null,
      "outputs": [
        {
          "output_type": "stream",
          "name": "stdout",
          "text": [
            "before swapping:  10 20\n",
            "after swapping :  20 10\n"
          ]
        }
      ]
    },
    {
      "cell_type": "markdown",
      "source": [
        "\n",
        "def hello(name,id): #formal argument which are declared at the time declare   function  \n",
        "  print(\"my name is : \",name)\n",
        "  print(\"my id is : \",id)\n",
        "hello('prakhra',101) #actual  argument are declared at a time of calling function"
      ],
      "metadata": {
        "id": "2BT-uMKaBqzX"
      }
    },
    {
      "cell_type": "code",
      "source": [
        "def emp(id,name,add,salary,age):\n",
        "  t=id,name,add,salary,age\n",
        "  for i in t:\n",
        "    print(i)\n",
        "emp(10,'prakhar','jaipur',20000,18)"
      ],
      "metadata": {
        "colab": {
          "base_uri": "https://localhost:8080/"
        },
        "id": "1pDKw813MNlE",
        "outputId": "9e2d7a88-1c39-4602-c70a-1b9ab7dc427c"
      },
      "execution_count": null,
      "outputs": [
        {
          "output_type": "stream",
          "name": "stdout",
          "text": [
            "10\n",
            "prakhar\n",
            "jaipur\n",
            "20000\n",
            "18\n"
          ]
        }
      ]
    },
    {
      "cell_type": "code",
      "source": [
        "#Type of argument:\n",
        "#1:positional agruement: error occuring due to position .\n",
        "#2:keyword arguement : \n",
        "#1example\n",
        "def sub(a,b):\n",
        "  print(a-b)\n",
        "sub(100,200)\n",
        "sub(200,100)\n",
        "\n",
        "#example 2 #keyword agruement  are used for assigning the value to the argument at the time of calling function. \n",
        "def prakhar(name,msg):\n",
        "  print(\"hello :\",name,\"message :\",msg)\n",
        "prakhar(\"adarsh\",\"hello india\")\n",
        "prakhar(name=\"prakhar\",msg=\"hello  my world i love python\")\n",
        "\n",
        "#default arguement :the values we defined to the postional arguements\n",
        "def add(a=10,b=20,c=100):\n",
        "  print(\"a: \",a,\"b:\",b,\"c: \",c)\n",
        "add(100,200,1000)\n",
        "add()\n",
        "\n",
        "\n",
        "\n",
        "\n",
        "#def prakhar(a,b):\n",
        "#  print(\"a:\",a,\"b :\",b)\n",
        "#prakhar(1,2)"
      ],
      "metadata": {
        "colab": {
          "base_uri": "https://localhost:8080/",
          "height": 130
        },
        "id": "I9GvvkAIMyeD",
        "outputId": "e755bf4f-7ff2-47c6-c3b5-b33e57fc6b72"
      },
      "execution_count": null,
      "outputs": [
        {
          "output_type": "error",
          "ename": "IndentationError",
          "evalue": "ignored",
          "traceback": [
            "\u001b[0;36m  File \u001b[0;32m\"<tokenize>\"\u001b[0;36m, line \u001b[0;32m27\u001b[0m\n\u001b[0;31m    s=a+b\u001b[0m\n\u001b[0m    ^\u001b[0m\n\u001b[0;31mIndentationError\u001b[0m\u001b[0;31m:\u001b[0m unindent does not match any outer indentation level\n"
          ]
        }
      ]
    },
    {
      "cell_type": "code",
      "source": [],
      "metadata": {
        "id": "8u-hdLzZ8BW6"
      },
      "execution_count": null,
      "outputs": []
    },
    {
      "cell_type": "code",
      "source": [
        "#variable length arguement :we can used it sometimes for our function \n",
        "#declare with def n1(*n):\n",
        "\n",
        "#variable t=(sum,sub,mul,div) no of arguement \n",
        "#t=(sum,sub,mul,div)\n",
        "def sum(*n):\n",
        "  total=0\n",
        "  for i in n:\n",
        "    total=total+i\n",
        "    print(i)\n",
        "  print(\"the sum is :\",total)\n",
        "sum()\n",
        "sum(10,20)\n",
        "sum(0,1,2,3,4,5,6,7,8,9,10)\n",
        "\n",
        "\n",
        "\n"
      ],
      "metadata": {
        "colab": {
          "base_uri": "https://localhost:8080/"
        },
        "id": "5XKTgAzW8Dwf",
        "outputId": "1e86606b-b8d7-4eeb-8a50-2829eccd5690"
      },
      "execution_count": null,
      "outputs": [
        {
          "output_type": "stream",
          "name": "stdout",
          "text": [
            "the sum is : 0\n",
            "10\n",
            "20\n",
            "the sum is : 30\n",
            "0\n",
            "1\n",
            "2\n",
            "3\n",
            "4\n",
            "5\n",
            "6\n",
            "7\n",
            "8\n",
            "9\n",
            "10\n",
            "the sum is : 55\n"
          ]
        }
      ]
    },
    {
      "cell_type": "code",
      "source": [
        "def mul(*n):\n",
        "  mult=1\n",
        "  for i in n:\n",
        "    mult=mult*i\n",
        "  print('The multiplication is',mult)\n",
        "mul(2,4,5)"
      ],
      "metadata": {
        "colab": {
          "base_uri": "https://localhost:8080/"
        },
        "id": "vixhuDLf92He",
        "outputId": "4addd8d7-27bd-44fc-8e5a-0ecaef88dbcf"
      },
      "execution_count": null,
      "outputs": [
        {
          "output_type": "stream",
          "name": "stdout",
          "text": [
            "The multiplication is 40\n"
          ]
        }
      ]
    },
    {
      "cell_type": "code",
      "source": [
        "#variable of a function global or local variable\n",
        "#1: global : The variable declared outside the function declaration\n",
        "\n",
        "a=10 #the thing or variable avaible to every function \n",
        "def pr1():\n",
        "  print(a)\n",
        "def ad1():\n",
        "  print(a)\n",
        "pr1()\n",
        "ad1()"
      ],
      "metadata": {
        "id": "oGzF-QYqRh1E",
        "colab": {
          "base_uri": "https://localhost:8080/"
        },
        "outputId": "0375a7cf-ed76-40f8-8c13-0b832b64ab82"
      },
      "execution_count": null,
      "outputs": [
        {
          "output_type": "stream",
          "name": "stdout",
          "text": [
            "10\n",
            "10\n"
          ]
        }
      ]
    },
    {
      "cell_type": "code",
      "source": [],
      "metadata": {
        "id": "geBLoxSwIPo9"
      },
      "execution_count": null,
      "outputs": []
    },
    {
      "cell_type": "code",
      "source": [
        "#2:local variable :the variable that  is declared inside a function is called a local variable.\n",
        "#local variable are available only for the function in which it is declared .(outside the function we cannot access them) \n",
        "def pr():\n",
        "  a=10 #local variable\n",
        "  print(a) \n",
        "\n",
        "def p1():\n",
        "  print(b) #invalid\n",
        "\n",
        "pr()\n",
        "p1()\n",
        "\n",
        "\n"
      ],
      "metadata": {
        "colab": {
          "base_uri": "https://localhost:8080/"
        },
        "id": "Dyol4RS0_Jx6",
        "outputId": "bfd165f7-c47f-4547-8034-af2f11938098"
      },
      "execution_count": null,
      "outputs": [
        {
          "output_type": "stream",
          "name": "stdout",
          "text": [
            "10\n",
            "10\n",
            "10\n"
          ]
        }
      ]
    },
    {
      "cell_type": "code",
      "source": [],
      "metadata": {
        "id": "LiPmj1eHIRnL"
      },
      "execution_count": null,
      "outputs": []
    },
    {
      "cell_type": "code",
      "source": [
        "#Recursive function:the function thats call iteself thats is termed as recursive function.\n",
        "#reduce the code readability\n",
        "#5!=5*4*3*2*1 (n-1)\n",
        "#6:6*5*4*3*2*1\n",
        "#0!=1\n",
        "#factorial of a number\n",
        "#n=n*f(n-1)\n",
        "#5=5*4\n",
        "#5\n",
        "def fact(n):\n",
        "  if n==0:\n",
        "    result=1\n",
        "  else:\n",
        "    result=n*fact(n-1) #recursive \n",
        "  return result\n",
        "print(\"the factorial of a given no is :\",fact(6))\n",
        "\n",
        "\n"
      ],
      "metadata": {
        "colab": {
          "base_uri": "https://localhost:8080/"
        },
        "id": "noQxDfrcBI89",
        "outputId": "5d0cfeeb-34ac-4dad-b895-43c3b964f4f3"
      },
      "execution_count": null,
      "outputs": [
        {
          "output_type": "stream",
          "name": "stdout",
          "text": [
            "the factorial of a given no is : 720\n"
          ]
        }
      ]
    },
    {
      "cell_type": "code",
      "source": [],
      "metadata": {
        "id": "0AtcqpRoGzd5"
      },
      "execution_count": null,
      "outputs": []
    },
    {
      "cell_type": "code",
      "source": [
        "def fact(a):\n",
        "  f=1\n",
        "  for i in range(a):\n",
        "    f=f*a\n",
        "    a=a-1\n",
        "  print(f)\n",
        "fact(5)"
      ],
      "metadata": {
        "colab": {
          "base_uri": "https://localhost:8080/"
        },
        "id": "cxHoqDmWD0be",
        "outputId": "e1521c12-c15c-4265-e3af-da646d78ce71"
      },
      "execution_count": null,
      "outputs": [
        {
          "output_type": "stream",
          "name": "stdout",
          "text": [
            "120\n"
          ]
        }
      ]
    },
    {
      "cell_type": "code",
      "source": [
        "def f(n):\n",
        "  if n==0:\n",
        "    res=1\n",
        "    print(\"this is factorial of 1 \",res)\n",
        "  else:\n",
        "    res=n*f(n-1)\n",
        "  return res\n",
        "f(5)"
      ],
      "metadata": {
        "colab": {
          "base_uri": "https://localhost:8080/"
        },
        "id": "a4miWYCrAmok",
        "outputId": "59fa2e65-b5ea-47b5-bfc6-bbcbd20a5563"
      },
      "execution_count": null,
      "outputs": [
        {
          "output_type": "stream",
          "name": "stdout",
          "text": [
            "this is factorial of 1  1\n"
          ]
        },
        {
          "output_type": "execute_result",
          "data": {
            "text/plain": [
              "120"
            ]
          },
          "metadata": {},
          "execution_count": 27
        }
      ]
    },
    {
      "cell_type": "code",
      "source": [
        "#class ,object,refence variable,instance variable,static variable,method variable,self variable,contructor,defence btw function and constructor"
      ],
      "metadata": {
        "id": "SgS0RTZrJbXO"
      },
      "execution_count": null,
      "outputs": []
    },
    {
      "cell_type": "code",
      "source": [],
      "metadata": {
        "colab": {
          "base_uri": "https://localhost:8080/",
          "height": 130
        },
        "id": "YE0HynreITBl",
        "outputId": "3c313560-567a-4590-b338-4c6e2050a4d4"
      },
      "execution_count": null,
      "outputs": [
        {
          "output_type": "error",
          "ename": "SyntaxError",
          "evalue": "ignored",
          "traceback": [
            "\u001b[0;36m  File \u001b[0;32m\"<ipython-input-34-604b41a4017e>\"\u001b[0;36m, line \u001b[0;32m4\u001b[0m\n\u001b[0;31m    else:\u001b[0m\n\u001b[0m       ^\u001b[0m\n\u001b[0;31mSyntaxError\u001b[0m\u001b[0;31m:\u001b[0m invalid syntax\n"
          ]
        }
      ]
    }
  ]
}