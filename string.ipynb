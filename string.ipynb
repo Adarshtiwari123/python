{
  "nbformat": 4,
  "nbformat_minor": 0,
  "metadata": {
    "colab": {
      "provenance": [],
      "collapsed_sections": []
    },
    "kernelspec": {
      "name": "python3",
      "display_name": "Python 3"
    },
    "language_info": {
      "name": "python"
    }
  },
  "cells": [
    {
      "cell_type": "code",
      "execution_count": null,
      "metadata": {
        "colab": {
          "base_uri": "https://localhost:8080/"
        },
        "id": "2-XLG7HU8Bda",
        "outputId": "04522025-ce55-4ada-98c0-60eb48ebca87"
      },
      "outputs": [
        {
          "output_type": "stream",
          "name": "stdout",
          "text": [
            "hello prakhar\n"
          ]
        }
      ],
      "source": [
        "#string :is a collection of charactors or letter(never be change while updating new value)\n",
        "st=\"hello prakhar\"\n",
        "print(st)"
      ]
    },
    {
      "cell_type": "code",
      "source": [
        "a=input('Please enter a string->')\n",
        "l=a.split(' ')\n",
        "print(type(l))"
      ],
      "metadata": {
        "colab": {
          "base_uri": "https://localhost:8080/"
        },
        "id": "mSFT8IiDo_-r",
        "outputId": "cacc67cb-86de-45dc-b5d6-c13864ea14b9"
      },
      "execution_count": null,
      "outputs": [
        {
          "output_type": "stream",
          "name": "stdout",
          "text": [
            "Please enter a string->adarsh is a very good\n",
            "<class 'list'>\n"
          ]
        }
      ]
    },
    {
      "cell_type": "code",
      "source": [
        "#string \n",
        "name=input(\"enter your name\")\n",
        "print(\"hello\",name)\n",
        "print(\"hello\"+name)"
      ],
      "metadata": {
        "colab": {
          "base_uri": "https://localhost:8080/"
        },
        "id": "PiyWdAmR9Hf4",
        "outputId": "6a829a5b-c8b1-4386-9304-bd5f36734707"
      },
      "execution_count": null,
      "outputs": [
        {
          "output_type": "stream",
          "name": "stdout",
          "text": [
            "enter your nameprakhgar\n",
            "hello prakhgar\n",
            "hello    prakhgar\n"
          ]
        }
      ]
    },
    {
      "cell_type": "code",
      "source": [
        "#string example 3\n",
        "st=\"prakhar\"\n",
        "print(\"helo\",\" \",st)"
      ],
      "metadata": {
        "colab": {
          "base_uri": "https://localhost:8080/"
        },
        "id": "q4ccu0q89aNX",
        "outputId": "f2d8aa7f-5b24-4b0b-da77-7a62639107ed"
      },
      "execution_count": null,
      "outputs": [
        {
          "output_type": "stream",
          "name": "stdout",
          "text": [
            "helo   prakhar\n"
          ]
        }
      ]
    },
    {
      "cell_type": "code",
      "source": [
        "#indexing :means the actual position of a string,list,array\n",
        "#indexing determines the existing point\n",
        "#indexing always  start with 0 - n-1\n",
        "name=\"prakhar\"\n",
        "a=0\n",
        "for i in name:\n",
        "  print(\"indexing is\",a,\"at position \",i)\n",
        "  a=a+1\n",
        "\n"
      ],
      "metadata": {
        "colab": {
          "base_uri": "https://localhost:8080/"
        },
        "id": "97tdcGh8-z71",
        "outputId": "dc7b25db-5e56-4d58-f733-000d30086eea"
      },
      "execution_count": null,
      "outputs": [
        {
          "output_type": "stream",
          "name": "stdout",
          "text": [
            "indexing is 0 at position  p\n",
            "indexing is 1 at position  r\n",
            "indexing is 2 at position  a\n",
            "indexing is 3 at position  k\n",
            "indexing is 4 at position  h\n",
            "indexing is 5 at position  a\n",
            "indexing is 6 at position  r\n"
          ]
        }
      ]
    },
    {
      "cell_type": "code",
      "source": [
        "#slicing: starts with 0 means to break down the string into small alphabets\n",
        "#slicing start with '[startend : finishend  ]' \n",
        "name=\"prakhar\"\n",
        "print(name[0])\n",
        "print(name[1])\n",
        "print(name[2])\n",
        "print(name[3])\n",
        "print(name[4])\n",
        "print(name[5])"
      ],
      "metadata": {
        "colab": {
          "base_uri": "https://localhost:8080/"
        },
        "id": "MzDvOunr_iYR",
        "outputId": "48e2f827-1709-4c70-d71c-aaab30896f48"
      },
      "execution_count": null,
      "outputs": [
        {
          "output_type": "stream",
          "name": "stdout",
          "text": [
            "p\n",
            "r\n",
            "a\n",
            "k\n",
            "h\n",
            "a\n"
          ]
        }
      ]
    },
    {
      "cell_type": "code",
      "source": [
        "#mutable =changeable\n",
        "#imutable=not changeable\n",
        "#length :len() is used to calculate the length of a string\n",
        "#print(len(s))\n",
        "#string  is a immutable object\n",
        "s=\"prakhar\"\n",
        "print(s[4])\n",
        "#s[4]='j'\n",
        "print(s[4])\n"
      ],
      "metadata": {
        "colab": {
          "base_uri": "https://localhost:8080/"
        },
        "id": "rkHfE79r_hmC",
        "outputId": "35468e9e-7549-459c-b5e0-5c6cba88c2a0"
      },
      "execution_count": null,
      "outputs": [
        {
          "output_type": "stream",
          "name": "stdout",
          "text": [
            "h\n",
            "h\n"
          ]
        }
      ]
    },
    {
      "cell_type": "code",
      "source": [
        "#slicing: starts with 0 means to break down the string into small alphabets\n",
        "#slicing start with '[startend : finishend  ]' \n",
        "#slicing start with '[startend : finishend:increament  ]'  by default increment of 1 \n",
        "#slicing based on the length not on index\n",
        "#slicing example:\n",
        "st=\"prakhar\"\n",
        "print(st[0])\n",
        "print(st[::4])\n",
        "print(st[::])\n",
        "print(st[:])\n",
        "print(st[0:7]) #length of a string\n",
        "print(st[0:8:2])"
      ],
      "metadata": {
        "colab": {
          "base_uri": "https://localhost:8080/"
        },
        "id": "ame53rcdDICG",
        "outputId": "df2c8384-6ba1-4edc-a67b-ccac859a2592"
      },
      "execution_count": null,
      "outputs": [
        {
          "output_type": "stream",
          "name": "stdout",
          "text": [
            "p\n",
            "ph\n",
            "prakhar\n",
            "prakhar\n",
            "prakhar\n",
            "pahr\n"
          ]
        }
      ]
    },
    {
      "cell_type": "code",
      "source": [
        "st=\"happiness\"\n",
        "a='happiness'\n",
        "for i in range(len(a),0,-1):\n",
        "  print(a[0:i])\n",
        "print(a[0:9:2])\n",
        "print(a[0:9:4])"
      ],
      "metadata": {
        "colab": {
          "base_uri": "https://localhost:8080/"
        },
        "id": "9FIjtfzwGMCU",
        "outputId": "fba1d0ba-2b4e-43db-b94b-8f3abacb8f87"
      },
      "execution_count": null,
      "outputs": [
        {
          "output_type": "stream",
          "name": "stdout",
          "text": [
            "happiness\n",
            "happines\n",
            "happine\n",
            "happin\n",
            "happi\n",
            "happ\n",
            "hap\n",
            "ha\n",
            "h\n",
            "hpies\n",
            "his\n"
          ]
        }
      ]
    },
    {
      "cell_type": "code",
      "source": [
        "#slicing can be in both positive and negative\n",
        "st=\"prakhar\"\n",
        "print(st[-1])\n",
        "print(st[-2])\n",
        "print(st[-3])\n",
        "print(st[-4])\n",
        "print(st[-5])\n",
        "print(st[-6])\n",
        "print(st[-7])"
      ],
      "metadata": {
        "colab": {
          "base_uri": "https://localhost:8080/"
        },
        "id": "sf5-n-osGmgf",
        "outputId": "ce39b577-a5ba-4c90-ba29-70e166a8a90c"
      },
      "execution_count": null,
      "outputs": [
        {
          "output_type": "stream",
          "name": "stdout",
          "text": [
            "r\n",
            "a\n",
            "h\n",
            "k\n",
            "a\n",
            "r\n",
            "p\n"
          ]
        }
      ]
    },
    {
      "cell_type": "code",
      "source": [
        "#slicing [startwith:endwith:increment]   ':'\n",
        "st=\"prakhar\"\n",
        "s=st[-4] #you can store slicing in a variable\n",
        "print(st[:-1])\n",
        "print(st[-4:-1])\n",
        "print(st[-5:-2])\n",
        "print(st[-5:-1:2])\n",
        "print(st[-5:-1])"
      ],
      "metadata": {
        "colab": {
          "base_uri": "https://localhost:8080/"
        },
        "id": "jyRqqkt-Hqoe",
        "outputId": "f33415fc-cb3f-49ff-9e2f-a5e33bc4875f"
      },
      "execution_count": null,
      "outputs": [
        {
          "output_type": "stream",
          "name": "stdout",
          "text": [
            "prakha\n",
            "kha\n",
            "akh\n",
            "ah\n",
            "akha\n"
          ]
        }
      ]
    },
    {
      "cell_type": "code",
      "source": [
        "#slicing is n between two directions 1:forward... (+values)\n",
        "#slicing =[begin:end:step] [begin:] =slicing occur in forward  ... Begin:occus with 0\n",
        "#[:end] :slicing occur in backward end:occur at -1\n",
        "#forward direction:ending value is depend upon the length of a string(inding 0:4=end,length (5))\n",
        "#wap to slice the string \"learing python is very easy\"\n",
        "#outputs .learning,.earning,.learn,.g python is very easy,.learing python is very easy,.ysae yrev si nohtyp gninrael,\"\""
      ],
      "metadata": {
        "id": "71FOf5NpHqz3"
      },
      "execution_count": null,
      "outputs": []
    },
    {
      "cell_type": "code",
      "source": [
        "st=\"learning python is very easy\"\n",
        "#s=len(st)\n",
        "#print(\"length is:\",s) \n",
        "print(st[0:8:1])\n",
        "print(st[1:8:1])\n",
        "print(st[0:5:1])\n",
        "print(st[7:29])\n",
        "print(st[7:])\n",
        "print(st[0:])\n",
        "print(st[:28])\n",
        "print(st[::])\n",
        "print(st[-1:-29:-1])\n",
        "print(st[::-1])\n",
        "print(st[3:28:-1])\n",
        "s=\"prakhar jain\"\n",
        "for i in s:\n",
        "  print(i,end='')\n"
      ],
      "metadata": {
        "colab": {
          "base_uri": "https://localhost:8080/"
        },
        "id": "18EE12z0bJvt",
        "outputId": "dfffd24f-3aa1-4f97-dd66-0d48e0cdc6fb"
      },
      "execution_count": null,
      "outputs": [
        {
          "output_type": "stream",
          "name": "stdout",
          "text": [
            "learning\n",
            "earning\n",
            "learn\n",
            "g python is very easy\n",
            "g python is very easy\n",
            "learning python is very easy\n",
            "learning python is very easy\n",
            "learning python is very easy\n",
            "ysae yrev si nohtyp gninrael\n",
            "ysae yrev si nohtyp gninrael\n",
            "\n"
          ]
        }
      ]
    },
    {
      "cell_type": "code",
      "source": [
        "#wap to print the string in forward and backward direction using slicing and for loop\n",
        "#wap to chech whether two strings are equal or not \n",
        "a=input('Please enter a sentence->')\n",
        "print(len(a))\n",
        "print(a[::-1])\n",
        "for i in range(-1,-(len(a)+1),-1):\n",
        "  print(a[i],end='')\n"
      ],
      "metadata": {
        "colab": {
          "base_uri": "https://localhost:8080/"
        },
        "id": "wJzcPe9Qeuak",
        "outputId": "8df2c7c5-c44a-4736-ea80-57bf18eeeac5"
      },
      "execution_count": null,
      "outputs": [
        {
          "output_type": "stream",
          "name": "stdout",
          "text": [
            "Please enter a sentence->honesty is a best policy\n",
            "24\n",
            "ycilop tseb a si ytsenoh\n",
            "ycilop tseb a si ytsenoh"
          ]
        }
      ]
    },
    {
      "cell_type": "code",
      "source": [
        "#by the way of slicing\n",
        "sen=input(\"enter your string\")\n",
        "l=len(sen)\n",
        "print(l)\n",
        "print(\"forward direction\")\n",
        "print(sen[0:l:1])\n",
        "print(\"backward direction\")\n",
        "print(sen[::-1])"
      ],
      "metadata": {
        "colab": {
          "base_uri": "https://localhost:8080/"
        },
        "id": "XFkXr4CPhjPH",
        "outputId": "36c2c7c1-3088-4141-8db2-3bcf948050c6"
      },
      "execution_count": null,
      "outputs": [
        {
          "output_type": "stream",
          "name": "stdout",
          "text": [
            "enter your stringlearning python is very  easy for all\n",
            "37\n",
            "forward direction\n",
            "learning python is very  easy for all\n",
            "backward direction\n",
            "lla rof ysae  yrev si nohtyp gninrael\n"
          ]
        }
      ]
    },
    {
      "cell_type": "code",
      "source": [
        "#by the way of looping\n",
        "s=input(\"enter your string\")\n",
        "print(\"forward direction\")\n",
        "for i in s:\n",
        "  print(i)\n",
        "print(\"backward direction:\")\n",
        "for i in s[::-1]:\n",
        "  print(i)\n"
      ],
      "metadata": {
        "colab": {
          "base_uri": "https://localhost:8080/"
        },
        "id": "WDOfkq1hivpo",
        "outputId": "0ebd6575-ee7e-46bf-9945-0bf1d0770774"
      },
      "execution_count": null,
      "outputs": [
        {
          "output_type": "stream",
          "name": "stdout",
          "text": [
            "enter your stringhonesty is a best policy\n",
            "forward direction\n",
            "h\n",
            "o\n",
            "n\n",
            "e\n",
            "s\n",
            "t\n",
            "y\n",
            " \n",
            "i\n",
            "s\n",
            " \n",
            "a\n",
            " \n",
            "b\n",
            "e\n",
            "s\n",
            "t\n",
            " \n",
            "p\n",
            "o\n",
            "l\n",
            "i\n",
            "c\n",
            "y\n",
            "backward direction:\n",
            "y\n",
            "c\n",
            "i\n",
            "l\n",
            "o\n",
            "p\n",
            " \n",
            "t\n",
            "s\n",
            "e\n",
            "b\n",
            " \n",
            "a\n",
            " \n",
            "s\n",
            "i\n",
            " \n",
            "y\n",
            "t\n",
            "s\n",
            "e\n",
            "n\n",
            "o\n",
            "h\n"
          ]
        }
      ]
    },
    {
      "cell_type": "code",
      "source": [],
      "metadata": {
        "id": "0cehOqSHlHIA"
      },
      "execution_count": null,
      "outputs": []
    },
    {
      "cell_type": "code",
      "source": [
        "#split function   is used to split the space between strings.\n",
        "# prakhar is a python developer\n",
        "#syntax l=s.split(seperator)  #by default is 'space '\n",
        "st=input(\"enter your string:\")\n",
        "l=st.split() \n",
        "for i in l:\n",
        "  print(i)\n"
      ],
      "metadata": {
        "colab": {
          "base_uri": "https://localhost:8080/"
        },
        "id": "ALCeFvZdjoK6",
        "outputId": "4a745b52-ed06-4432-8766-4e40e86e8d6b"
      },
      "execution_count": null,
      "outputs": [
        {
          "output_type": "stream",
          "name": "stdout",
          "text": [
            "enter your string:prakhar is a python developer\n",
            "prakhar\n",
            "is\n",
            "a\n",
            "python\n",
            "developer\n"
          ]
        }
      ]
    },
    {
      "cell_type": "code",
      "source": [
        "date=input(\"enter your date\")\n",
        "#yy/mm/dd\n",
        "#dd/mm/yy\n",
        "#mm/yy/dd\n",
        "x=date.split('/')\n",
        "for i in x:\n",
        "  print(i)"
      ],
      "metadata": {
        "colab": {
          "base_uri": "https://localhost:8080/"
        },
        "id": "iMPjI6LgmA4m",
        "outputId": "744c2986-1d1f-41ba-d0c1-2a4d01acef6f"
      },
      "execution_count": null,
      "outputs": [
        {
          "output_type": "stream",
          "name": "stdout",
          "text": [
            "enter your date15/09/2004\n",
            "15\n",
            "09\n",
            "2004\n"
          ]
        }
      ]
    },
    {
      "cell_type": "code",
      "source": [
        "a=input('Please enter a string->')\n",
        "l=a.split()\n",
        "print(l)\n",
        "for i in l:\n",
        "  print(i)"
      ],
      "metadata": {
        "colab": {
          "base_uri": "https://localhost:8080/"
        },
        "id": "MhgxbsTHpkY1",
        "outputId": "e4190db0-f29b-4735-fda3-f2f0fde14c8d"
      },
      "execution_count": null,
      "outputs": [
        {
          "output_type": "stream",
          "name": "stdout",
          "text": [
            "Please enter a string->prakhar is a good boy\n",
            "['prakhar', 'is', 'a', 'good', 'boy']\n",
            "prakhar\n",
            "is\n",
            "a\n",
            "good\n",
            "boy\n"
          ]
        }
      ]
    },
    {
      "cell_type": "code",
      "source": [
        "#join: is used to join the two strings or list or touple.\n",
        "s=input(\"enter your string : \")\n",
        "print(s.split())\n",
        "l=s.split() #list occupies of a string\n",
        "st=\" \".join(l)\n",
        "print(\"after using join we call it as : \",st)"
      ],
      "metadata": {
        "colab": {
          "base_uri": "https://localhost:8080/"
        },
        "id": "HHZeKIJSptt2",
        "outputId": "4c7cf0ca-0a9e-43cc-8351-d99f58be4030"
      },
      "execution_count": null,
      "outputs": [
        {
          "output_type": "stream",
          "name": "stdout",
          "text": [
            "enter your string :  python is a good language\n",
            "['python', 'is', 'a', 'good', 'language']\n",
            "after using join we call it as :  python is a good language\n"
          ]
        }
      ]
    },
    {
      "cell_type": "code",
      "source": [
        "#s=\"string store\"\n",
        "#l=s.split()  ['string','store'] string to list\n",
        "#print(l) list\n",
        "#list to string\n",
        "#'seperator ' sperator- '-','space','/',': '\n",
        "#p='sperator'.join(list) list to string\n",
        "#print(p)\n"
      ],
      "metadata": {
        "id": "c8ErkQNzsPRm"
      },
      "execution_count": null,
      "outputs": []
    },
    {
      "cell_type": "code",
      "source": [
        "a=input('Enter a string->')\n",
        "l=a.split()\n",
        "b='-'.join(l)\n",
        "print(b)"
      ],
      "metadata": {
        "colab": {
          "base_uri": "https://localhost:8080/"
        },
        "id": "B7T_Da6ysvA2",
        "outputId": "5145128a-9806-4e98-9d10-d2d6a4b4c2ee"
      },
      "execution_count": null,
      "outputs": [
        {
          "output_type": "stream",
          "name": "stdout",
          "text": [
            "Enter a string->prakhar is a python programmer\n",
            "prakhar-is-a-python-programmer\n"
          ]
        }
      ]
    },
    {
      "cell_type": "code",
      "source": [
        "#string functions:\n",
        "#1:capitalize() to convert  in uppercase #capiltaize first letter\n",
        "#2:casefold() to convert  in lowercase\n",
        "#3:count() -count the specific charator\n",
        "  "
      ],
      "metadata": {
        "id": "YcQIv1pBpx9I"
      },
      "execution_count": null,
      "outputs": []
    },
    {
      "cell_type": "code",
      "source": [
        "st=input(\"prakhar\")\n",
        "s=st.capitalize()\n",
        "print(\"in capitalize:\",st,s)"
      ],
      "metadata": {
        "colab": {
          "base_uri": "https://localhost:8080/"
        },
        "id": "EqSjrS5SuGi1",
        "outputId": "a8bea2bb-e6be-4013-fe38-604bdeecbeb1"
      },
      "execution_count": null,
      "outputs": [
        {
          "output_type": "stream",
          "name": "stdout",
          "text": [
            "prakharjain\n",
            "in capitalize: jain Jain\n"
          ]
        }
      ]
    },
    {
      "cell_type": "code",
      "source": [
        "st=input(\"prakhar\")\n",
        "s=st.casefold()#convert lower case all string\n",
        "print(\"in capitalize:\",st,s)"
      ],
      "metadata": {
        "colab": {
          "base_uri": "https://localhost:8080/"
        },
        "id": "Vfti-tYiujq7",
        "outputId": "8db2b842-a5d3-4557-a02e-8fb026a1b4ec"
      },
      "execution_count": null,
      "outputs": [
        {
          "output_type": "stream",
          "name": "stdout",
          "text": [
            "prakharJAIN\n",
            "in capitalize: JAIN jain\n"
          ]
        }
      ]
    },
    {
      "cell_type": "code",
      "source": [
        "st=\"hello wello fello hello hello wello fello hello hello wello fello hello hello wello fello hello \"\n",
        "s=st.count('hello')\n",
        "print(\"count the h charactor : \",s)"
      ],
      "metadata": {
        "colab": {
          "base_uri": "https://localhost:8080/"
        },
        "id": "WdN-QMVHvfGv",
        "outputId": "0961a8c0-ca73-4a8f-9b16-402a9c4b8b13"
      },
      "execution_count": null,
      "outputs": [
        {
          "output_type": "stream",
          "name": "stdout",
          "text": [
            "count the h charactor :  8\n"
          ]
        }
      ]
    },
    {
      "cell_type": "code",
      "source": [
        "a=input('Enter a string->')\n",
        "b=input('Enter a string->')\n",
        "if(a==b):\n",
        "  print(a,'and',b,'are the same string')\n",
        "else:\n",
        "  print(a,'and',b,'are not the same string')"
      ],
      "metadata": {
        "id": "C3FPJxKVvfRx",
        "colab": {
          "base_uri": "https://localhost:8080/"
        },
        "outputId": "1c870132-81ea-4283-cd3a-c5e96d5a0eff"
      },
      "execution_count": null,
      "outputs": [
        {
          "output_type": "stream",
          "name": "stdout",
          "text": [
            "Enter a string->hello\n",
            "Enter a string->hello\n",
            "hello and hello are the same string\n"
          ]
        }
      ]
    },
    {
      "cell_type": "code",
      "source": [
        "#center wich is used to prints the string no of spaces\n",
        "st=\"prakhar is a good  boy\"\n",
        "print(st)\n",
        "s=st.center(100)\n",
        "print(s)"
      ],
      "metadata": {
        "id": "edUacA6xvPN8",
        "colab": {
          "base_uri": "https://localhost:8080/"
        },
        "outputId": "04fb189a-b36e-4f53-ce06-8d8d50578e6a"
      },
      "execution_count": null,
      "outputs": [
        {
          "output_type": "stream",
          "name": "stdout",
          "text": [
            "prakhar is a good  boy\n",
            "                                       prakhar is a good  boy                                       \n"
          ]
        }
      ]
    },
    {
      "cell_type": "code",
      "source": [
        "#index: represent  address location \n",
        "st=input(\"enter your string\")\n",
        "s=st.index('hello')\n",
        "print(s)"
      ],
      "metadata": {
        "colab": {
          "base_uri": "https://localhost:8080/"
        },
        "id": "_ObNahvRmVh_",
        "outputId": "3311348d-73a0-4f53-a36c-70e6bb146af3"
      },
      "execution_count": null,
      "outputs": [
        {
          "output_type": "stream",
          "name": "stdout",
          "text": [
            "enter your stringhellowelo\n",
            "0\n"
          ]
        }
      ]
    },
    {
      "cell_type": "code",
      "source": [
        "#find:is used to fnd the particular substring in a string\n",
        "st=input(\"enter your string\")\n",
        "print(type(st),st)\n",
        "s=st.find('good')\n",
        "print(type(s),s)\n"
      ],
      "metadata": {
        "colab": {
          "base_uri": "https://localhost:8080/"
        },
        "id": "NXw3jCeUnvZJ",
        "outputId": "ff10e911-10ba-4585-9fd7-506ff5580001"
      },
      "execution_count": null,
      "outputs": [
        {
          "output_type": "stream",
          "name": "stdout",
          "text": [
            "enter your stringprakhar is a good boy\n",
            "<class 'str'> prakhar is a good boy\n",
            "<class 'int'> 13\n"
          ]
        }
      ]
    },
    {
      "cell_type": "code",
      "source": [
        "#isalnum():returns the true value if the condition become true alphanumeric (a-z,0-9)\n",
        "st=input(\"enter your name\")\n",
        "print(st)\n",
        "s=st.isalnum()\n",
        "print(s)\n"
      ],
      "metadata": {
        "colab": {
          "base_uri": "https://localhost:8080/"
        },
        "id": "7GcflS00osez",
        "outputId": "9205fbc3-dcd6-498f-def4-b03052b07a26"
      },
      "execution_count": null,
      "outputs": [
        {
          "output_type": "stream",
          "name": "stdout",
          "text": [
            "enter your name09828\n",
            "09828\n",
            "True\n"
          ]
        }
      ]
    },
    {
      "cell_type": "code",
      "source": [
        "#isalpha(): returns the true if the string is alphabetical\n",
        "st=input(\"entr your name\")\n",
        "print(st)\n",
        "s=st.isalpha()\n",
        "print(s)"
      ],
      "metadata": {
        "colab": {
          "base_uri": "https://localhost:8080/"
        },
        "id": "U7kwFBH0pdnk",
        "outputId": "8fe70bdf-468a-42c9-8257-be6556ecc6c8"
      },
      "execution_count": null,
      "outputs": [
        {
          "output_type": "stream",
          "name": "stdout",
          "text": [
            "entr your namehshhs\n",
            "hshhs\n",
            "True\n"
          ]
        }
      ]
    },
    {
      "cell_type": "code",
      "source": [
        "#isdigit(): it returns the true value of the string when it comes to the only digits value\n",
        "st=input(\"enter your string\")\n",
        "print(st)\n",
        "s=st.isdigit()\n",
        "print(s)"
      ],
      "metadata": {
        "colab": {
          "base_uri": "https://localhost:8080/"
        },
        "id": "Ct_bcbVNqBw5",
        "outputId": "4b887655-21f1-49c1-dabb-943c5fcabafc"
      },
      "execution_count": null,
      "outputs": [
        {
          "output_type": "stream",
          "name": "stdout",
          "text": [
            "enter your string1509\n",
            "1509\n",
            "True\n"
          ]
        }
      ]
    },
    {
      "cell_type": "code",
      "source": [],
      "metadata": {
        "id": "DohSupJGqe0p"
      },
      "execution_count": null,
      "outputs": []
    }
  ]
}