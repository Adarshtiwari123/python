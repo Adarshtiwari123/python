{
  "nbformat": 4,
  "nbformat_minor": 0,
  "metadata": {
    "colab": {
      "provenance": [],
      "collapsed_sections": []
    },
    "kernelspec": {
      "name": "python3",
      "display_name": "Python 3"
    },
    "language_info": {
      "name": "python"
    }
  },
  "cells": [
    {
      "cell_type": "code",
      "execution_count": null,
      "metadata": {
        "colab": {
          "base_uri": "https://localhost:8080/"
        },
        "id": "-7dMsrlZmWVq",
        "outputId": "ba407cd9-ec8b-4fc1-f41a-bcee84f680cf"
      },
      "outputs": [
        {
          "output_type": "stream",
          "name": "stdout",
          "text": [
            "10\n",
            "20\n",
            "[30, 40]\n",
            "30\n",
            "40\n",
            "[21, 23]\n",
            "[23, 324]\n"
          ]
        }
      ],
      "source": [
        "#we learnt many types of data sets like list and tuple which represent individual object in a single entity.\n",
        "#we\\hen we want to represent the objects in the pair of key and its value thats called the dictionary set..\n",
        "l=[10,20,[30,40]]\n",
        "print(l[0])\n",
        "print(l[1])\n",
        "l2=l[2][0]\n",
        "l3=l[2][1]\n",
        "print(l[2])\n",
        "print(l2)\n",
        "print(l3)\n",
        "\n"
      ]
    },
    {
      "cell_type": "code",
      "source": [],
      "metadata": {
        "id": "djUlhPh1naji"
      },
      "execution_count": null,
      "outputs": []
    },
    {
      "cell_type": "code",
      "source": [
        "t1=[21,23,[23,324,323]]\n",
        "print(t1[0:2])\n",
        "t2=t1[2]\n",
        "print(t2)\n",
        "print(t2[:2])\n",
        "\n",
        "print(t1[2][0:2])"
      ],
      "metadata": {
        "colab": {
          "base_uri": "https://localhost:8080/"
        },
        "id": "MDGAcj3kpaRm",
        "outputId": "9a7a00c3-522c-47b9-f3eb-a255938c6f6b"
      },
      "execution_count": null,
      "outputs": [
        {
          "output_type": "stream",
          "name": "stdout",
          "text": [
            "[21, 23]\n",
            "[23, 324, 323]\n",
            "[23, 324]\n",
            "[23, 324]\n"
          ]
        }
      ]
    },
    {
      "cell_type": "code",
      "source": [
        "t=(10,20,30,(50,60))\n",
        "print(t[0])\n",
        "print(t[1])\n",
        "print(t[2])\n",
        "print(t[3])\n",
        "print(t[3][0])\n",
        "print(t[3][1])"
      ],
      "metadata": {
        "colab": {
          "base_uri": "https://localhost:8080/"
        },
        "id": "S4F4DXFCp2DM",
        "outputId": "711ede44-3304-4399-8b3c-f02e3ac7e5a9"
      },
      "execution_count": null,
      "outputs": [
        {
          "output_type": "stream",
          "name": "stdout",
          "text": [
            "10\n",
            "20\n",
            "30\n",
            "(50, 60)\n",
            "50\n",
            "60\n"
          ]
        }
      ]
    },
    {
      "cell_type": "code",
      "source": [
        "#eg of dictionary roll:name\n",
        "# phone,number: address\n",
        "#ipaddress:domain name"
      ],
      "metadata": {
        "id": "8lGLVnFyqO88"
      },
      "execution_count": null,
      "outputs": []
    },
    {
      "cell_type": "code",
      "source": [
        "\n",
        "#dublicates key are not allowed but value can be dublicate\n",
        "#heterogenous objects are allowed for both key and value\n",
        "#dictionary,list are mutable\n",
        "#slicing and indexing are not applicable\n",
        "#immutable are tuple,string"
      ],
      "metadata": {
        "colab": {
          "base_uri": "https://localhost:8080/"
        },
        "id": "51oUDkryqbz5",
        "outputId": "5693c77e-5668-4f70-b9ab-c79aa7a18bcc"
      },
      "execution_count": null,
      "outputs": [
        {
          "output_type": "stream",
          "name": "stdout",
          "text": [
            "{10, 20, 30} <class 'set'>\n"
          ]
        }
      ]
    },
    {
      "cell_type": "code",
      "source": [
        "d={}\n",
        "print(d,type(d))"
      ],
      "metadata": {
        "colab": {
          "base_uri": "https://localhost:8080/"
        },
        "id": "d4oWNjnIrcM3",
        "outputId": "5974e9e3-81b0-417a-80e9-6fb641a4cce0"
      },
      "execution_count": null,
      "outputs": [
        {
          "output_type": "stream",
          "name": "stdout",
          "text": [
            "{} <class 'dict'>\n"
          ]
        }
      ]
    },
    {
      "cell_type": "code",
      "source": [
        "#syntax : d={key :'value',key2:'value'}\n",
        "d[10]='prakhar'\n",
        "d[20]='adarsh'\n",
        "d[3.0]='ravi'\n",
        "d[\"a\"]=1000\n",
        "d[20]='jain'\n",
        "print(d)\n"
      ],
      "metadata": {
        "colab": {
          "base_uri": "https://localhost:8080/"
        },
        "id": "2xc8JkpFpOg7",
        "outputId": "68fe8a21-be7d-4858-fbd7-98935a44cdd8"
      },
      "execution_count": null,
      "outputs": [
        {
          "output_type": "stream",
          "name": "stdout",
          "text": [
            "{10: 'prakhar', 20: 'jain', 3.0: 'ravi', 'a': 1000}\n"
          ]
        }
      ]
    },
    {
      "cell_type": "code",
      "source": [],
      "metadata": {
        "id": "Ilgf7kMcrVcA"
      },
      "execution_count": null,
      "outputs": []
    },
    {
      "cell_type": "code",
      "source": [
        "#create a dictionary\n",
        "#update the dictionary\n",
        "d={1:\"adarsh\",2:\"prakhar\",3:\"tiwari\"} #d={0:adarsh,1:prakhar},values represent  by the index of d[i]\n",
        "print(\"dictionary is \",d)\n",
        "#dictionary is mutable  the value can be changable\n",
        "print(\"we want to check that dict is mutable :\")\n",
        "D=d[2]=\"prakhar jain\"\n",
        "print(\"dict is mutable:d[2] \",D,\"our new dictionary is: \",d)\n",
        "\n",
        "\n"
      ],
      "metadata": {
        "colab": {
          "base_uri": "https://localhost:8080/"
        },
        "id": "p0X2AMZGnfRj",
        "outputId": "526242d0-3b19-4fc6-e582-0d79be8a5b83"
      },
      "execution_count": null,
      "outputs": [
        {
          "output_type": "stream",
          "name": "stdout",
          "text": [
            "dictionary is  {1: 'adarsh', 2: 'prakhar', 3: 'tiwari'}\n",
            "we want to check that dict is mutable :\n",
            "dict is mutable:d[2]  prakhar jain our new dictionary is:  {1: 'adarsh', 2: 'prakhar jain', 3: 'tiwari'}\n"
          ]
        }
      ]
    },
    {
      "cell_type": "code",
      "source": [
        "#key access \n",
        "for i in d:\n",
        "  print(d[i])"
      ],
      "metadata": {
        "colab": {
          "base_uri": "https://localhost:8080/"
        },
        "id": "6YlPKDEQpHt0",
        "outputId": "78af7f8d-3389-472f-90c1-df2f9dd4d777"
      },
      "execution_count": null,
      "outputs": [
        {
          "output_type": "stream",
          "name": "stdout",
          "text": [
            "ravi\n",
            "jain\n",
            "tiwari\n"
          ]
        }
      ]
    },
    {
      "cell_type": "code",
      "source": [
        "d={10:'prakhar',11:'harshit',12:'qweqw',13:'qwdAaF'}\n",
        "print('before->',d)\n",
        "d[11]='harshit12222'\n",
        "print('after->',d)"
      ],
      "metadata": {
        "colab": {
          "base_uri": "https://localhost:8080/"
        },
        "id": "kGIEKUdbrX7d",
        "outputId": "04db71de-0b62-495a-9a78-9901251414f9"
      },
      "execution_count": null,
      "outputs": [
        {
          "output_type": "stream",
          "name": "stdout",
          "text": [
            "before-> {10: 'prakhar', 11: 'harshit', 12: 'qweqw', 13: 'qwdAaF'}\n",
            "after-> {10: 'prakhar', 11: 'harshit12222', 12: 'qweqw', 13: 'qwdAaF'}\n"
          ]
        }
      ]
    },
    {
      "cell_type": "code",
      "source": [
        "d=dict()\n",
        "i=0\n",
        "d[i]=\"prakhar\"\n",
        "d[i+1]=\"adarsh\"\n",
        "d[i+2]=\"ravi\"\n",
        "print(d,type(d))\n"
      ],
      "metadata": {
        "colab": {
          "base_uri": "https://localhost:8080/"
        },
        "id": "k6B0097vrbdm",
        "outputId": "67a62cdb-a0cc-4c73-d7e0-0e05ee49d5d7"
      },
      "execution_count": null,
      "outputs": [
        {
          "output_type": "stream",
          "name": "stdout",
          "text": [
            "{0: 'prakhar', 1: 'adarsh', 2: 'ravi'} <class 'dict'>\n"
          ]
        }
      ]
    },
    {
      "cell_type": "code",
      "source": [
        "d={0:\"prakhar\",1:\"adarsh\",2:\"saksham\"}\n",
        "print(\"our dictionary : \",d)\n",
        "D=d[0]=d[5] #prakhar=\"Adarsh\"\n",
        "print(D)"
      ],
      "metadata": {
        "colab": {
          "base_uri": "https://localhost:8080/"
        },
        "id": "jzmnToVYswMo",
        "outputId": "a6f77d05-7c26-459d-ed3a-155cc1ed8256"
      },
      "execution_count": null,
      "outputs": [
        {
          "output_type": "stream",
          "name": "stdout",
          "text": [
            "our dictionary :  {0: 'prakhar', 1: 'adarsh', 2: 'saksham', 5: 'ravi'}\n",
            "ravi\n"
          ]
        }
      ]
    },
    {
      "cell_type": "code",
      "source": [
        "#function of a dictionary\n",
        "\n",
        "#del: is used to delete the specific key\n",
        "#syntax del d[key]\n",
        "d={100:\"adarsh\",200:\"prakhar\",300:\"saksham\",400:\"utkarsh\",500:\"tarun\"}\n",
        "print(d)\n",
        "print(d[100])\n",
        "print(d[200])\n",
        "print(d[300])\n",
        "print(d[500])\n",
        "d[400]=\"tanishq\"\n",
        "print(d)\n",
        "del d[400]\n",
        "print(d)\n"
      ],
      "metadata": {
        "colab": {
          "base_uri": "https://localhost:8080/"
        },
        "id": "soEhWmmztzKD",
        "outputId": "7d5ed586-cbf9-4f38-8864-5725d4802b18"
      },
      "execution_count": null,
      "outputs": [
        {
          "output_type": "stream",
          "name": "stdout",
          "text": [
            "{100: 'adarsh', 200: 'prakhar', 300: 'saksham', 400: 'utkarsh', 500: 'tarun'}\n",
            "adarsh\n",
            "prakhar\n",
            "saksham\n",
            "tarun\n",
            "{100: 'adarsh', 200: 'prakhar', 300: 'saksham', 400: 'tanishq', 500: 'tarun'}\n",
            "{100: 'adarsh', 200: 'prakhar', 300: 'saksham', 500: 'tarun'}\n"
          ]
        }
      ]
    },
    {
      "cell_type": "code",
      "source": [
        "#clear():it removes  all the  key:values from the dictionary\n",
        "d={100:\"adarsh\",200:\"prakhar\",300:\"saksham\",400:\"utkarsh\",500:\"tarun\"}\n",
        "print(d)\n",
        "D=d.clear(])\n",
        "print(D)"
      ],
      "metadata": {
        "colab": {
          "base_uri": "https://localhost:8080/",
          "height": 235
        },
        "id": "Eslr1owFvhBP",
        "outputId": "5cc9a072-80dc-4d83-b500-44bf3885d784"
      },
      "execution_count": null,
      "outputs": [
        {
          "output_type": "stream",
          "name": "stdout",
          "text": [
            "{100: 'adarsh', 200: 'prakhar', 300: 'saksham', 400: 'utkarsh', 500: 'tarun'}\n"
          ]
        },
        {
          "output_type": "error",
          "ename": "TypeError",
          "evalue": "ignored",
          "traceback": [
            "\u001b[0;31m---------------------------------------------------------------------------\u001b[0m",
            "\u001b[0;31mTypeError\u001b[0m                                 Traceback (most recent call last)",
            "\u001b[0;32m<ipython-input-45-aeaaddbb85d4>\u001b[0m in \u001b[0;36m<module>\u001b[0;34m\u001b[0m\n\u001b[1;32m      2\u001b[0m \u001b[0md\u001b[0m\u001b[0;34m=\u001b[0m\u001b[0;34m{\u001b[0m\u001b[0;36m100\u001b[0m\u001b[0;34m:\u001b[0m\u001b[0;34m\"adarsh\"\u001b[0m\u001b[0;34m,\u001b[0m\u001b[0;36m200\u001b[0m\u001b[0;34m:\u001b[0m\u001b[0;34m\"prakhar\"\u001b[0m\u001b[0;34m,\u001b[0m\u001b[0;36m300\u001b[0m\u001b[0;34m:\u001b[0m\u001b[0;34m\"saksham\"\u001b[0m\u001b[0;34m,\u001b[0m\u001b[0;36m400\u001b[0m\u001b[0;34m:\u001b[0m\u001b[0;34m\"utkarsh\"\u001b[0m\u001b[0;34m,\u001b[0m\u001b[0;36m500\u001b[0m\u001b[0;34m:\u001b[0m\u001b[0;34m\"tarun\"\u001b[0m\u001b[0;34m}\u001b[0m\u001b[0;34m\u001b[0m\u001b[0;34m\u001b[0m\u001b[0m\n\u001b[1;32m      3\u001b[0m \u001b[0mprint\u001b[0m\u001b[0;34m(\u001b[0m\u001b[0md\u001b[0m\u001b[0;34m)\u001b[0m\u001b[0;34m\u001b[0m\u001b[0;34m\u001b[0m\u001b[0m\n\u001b[0;32m----> 4\u001b[0;31m \u001b[0mD\u001b[0m\u001b[0;34m=\u001b[0m\u001b[0md\u001b[0m\u001b[0;34m.\u001b[0m\u001b[0mclear\u001b[0m\u001b[0;34m(\u001b[0m\u001b[0md\u001b[0m\u001b[0;34m[\u001b[0m\u001b[0;36m100\u001b[0m\u001b[0;34m]\u001b[0m\u001b[0;34m)\u001b[0m\u001b[0;34m\u001b[0m\u001b[0;34m\u001b[0m\u001b[0m\n\u001b[0m\u001b[1;32m      5\u001b[0m \u001b[0mprint\u001b[0m\u001b[0;34m(\u001b[0m\u001b[0mD\u001b[0m\u001b[0;34m)\u001b[0m\u001b[0;34m\u001b[0m\u001b[0;34m\u001b[0m\u001b[0m\n",
            "\u001b[0;31mTypeError\u001b[0m: clear() takes no arguments (1 given)"
          ]
        }
      ]
    },
    {
      "cell_type": "code",
      "source": [
        "d={10:'prakhar',11:'harshit',12:'qweqw',13:'qwdAaF'}\n",
        "print(d)\n",
        "del d[11]\n",
        "print(d)\n",
        "d.clear()\n",
        "print(d)\n",
        "print(d.clear())"
      ],
      "metadata": {
        "colab": {
          "base_uri": "https://localhost:8080/"
        },
        "id": "m_hmtTkPwckC",
        "outputId": "d3f74635-e25d-41ea-ee56-be94b8d496d4"
      },
      "execution_count": null,
      "outputs": [
        {
          "output_type": "stream",
          "name": "stdout",
          "text": [
            "{10: 'prakhar', 11: 'harshit', 12: 'qweqw', 13: 'qwdAaF'}\n",
            "{10: 'prakhar', 12: 'qweqw', 13: 'qwdAaF'}\n",
            "{}\n",
            "None\n"
          ]
        }
      ]
    },
    {
      "cell_type": "code",
      "source": [
        "d={10:'prakhar',11:'harshit',12:'qweqw',13:'qwdAaF'}\n",
        "print(\"the dictionary:\" ,d)\n"
      ],
      "metadata": {
        "colab": {
          "base_uri": "https://localhost:8080/"
        },
        "id": "cAV5uGILwoyi",
        "outputId": "e53db2d1-80e6-4851-d473-f0466a69dde7"
      },
      "execution_count": null,
      "outputs": [
        {
          "output_type": "stream",
          "name": "stdout",
          "text": [
            "the dictionary: {10: 'prakhar', 11: 'harshit', 12: 'qweqw', 13: 'qwdAaF'}\n"
          ]
        }
      ]
    },
    {
      "cell_type": "code",
      "source": [
        "d=dict({100:\"adarsh\",200:\"prakhar\"})\n",
        "print(dict())"
      ],
      "metadata": {
        "colab": {
          "base_uri": "https://localhost:8080/"
        },
        "id": "MveTCiuAw-L6",
        "outputId": "fe3a745c-a280-47bb-f6db-dd9025d23fd0"
      },
      "execution_count": null,
      "outputs": [
        {
          "output_type": "stream",
          "name": "stdout",
          "text": [
            "{}\n"
          ]
        }
      ]
    },
    {
      "cell_type": "code",
      "source": [
        "#len():it is used to calculate the length of a dictionary\n"
      ],
      "metadata": {
        "id": "WkXpSyCdxyMm"
      },
      "execution_count": null,
      "outputs": []
    },
    {
      "cell_type": "code",
      "source": [
        "d={10:'prakhar',11:'harshit',12:'qweqw',13:'qwdAaF'}\n",
        "print(len(d),d)"
      ],
      "metadata": {
        "colab": {
          "base_uri": "https://localhost:8080/"
        },
        "id": "mkEeYYw_wh5J",
        "outputId": "5e1917c0-09f5-482c-b3a3-34dfee24ab31"
      },
      "execution_count": null,
      "outputs": [
        {
          "output_type": "stream",
          "name": "stdout",
          "text": [
            "4 {10: 'prakhar', 11: 'harshit', 12: 'qweqw', 13: 'qwdAaF'}\n"
          ]
        }
      ]
    },
    {
      "cell_type": "code",
      "source": [
        "#clear()"
      ],
      "metadata": {
        "id": "s4qGjC4ZyBAX"
      },
      "execution_count": null,
      "outputs": []
    },
    {
      "cell_type": "code",
      "source": [
        "#get(key):to get the value from the dictionary\n",
        "d={10:'prakhar',11:'harshit',12:'qweqw',13:'qwdAaF'}\n",
        "D=d.get(13)\n",
        "print(D)"
      ],
      "metadata": {
        "colab": {
          "base_uri": "https://localhost:8080/"
        },
        "id": "9vcPKJmIyCV4",
        "outputId": "4866824b-90f9-4e22-dfa8-4d86fedd3511"
      },
      "execution_count": null,
      "outputs": [
        {
          "output_type": "stream",
          "name": "stdout",
          "text": [
            "qwdAaF\n"
          ]
        }
      ]
    },
    {
      "cell_type": "code",
      "source": [
        "#pop(it removes the specific key)\n",
        "\n",
        "d={10:'prakhar',11:'harshit',12:'qweqw',13:'qwdAaF'}\n",
        "del d[10]\n",
        "print(d)\n",
        "D=d.pop(12)\n",
        "print(D,d)\n"
      ],
      "metadata": {
        "colab": {
          "base_uri": "https://localhost:8080/"
        },
        "id": "-bMpJl6JyoBr",
        "outputId": "e725110a-064a-4903-b46b-640dbc735745"
      },
      "execution_count": null,
      "outputs": [
        {
          "output_type": "stream",
          "name": "stdout",
          "text": [
            "{11: 'harshit', 12: 'qweqw', 13: 'qwdAaF'}\n",
            "qweqw {11: 'harshit', 13: 'qwdAaF'}\n"
          ]
        }
      ]
    },
    {
      "cell_type": "code",
      "source": [
        "#keys():return all specific keys\n",
        "d={10:'prakhar',11:'harshit',12:'qweqw',13:'qwdAaF'}\n",
        "D=d.keys()\n",
        "print(D)"
      ],
      "metadata": {
        "colab": {
          "base_uri": "https://localhost:8080/"
        },
        "id": "j0dE4zZj0j5L",
        "outputId": "abd7093b-d6c2-4404-8ec3-d4bcabe74a75"
      },
      "execution_count": null,
      "outputs": [
        {
          "output_type": "stream",
          "name": "stdout",
          "text": [
            "dict_keys([10, 11, 12, 13])\n"
          ]
        }
      ]
    },
    {
      "cell_type": "code",
      "source": [
        "#values():returns all the specific values....\n",
        "d={10:'prakhar',11:'harshit',12:'qweqw',13:'qwdAaF'}\n",
        "D=d.values()\n",
        "print(d,type(D))\n",
        "#dict_values it store the values and keys of a dictionary in the format of list."
      ],
      "metadata": {
        "colab": {
          "base_uri": "https://localhost:8080/"
        },
        "id": "jsl3V1yQ07lZ",
        "outputId": "255fcffd-3f46-4b2d-e8e5-665f1d63bdde"
      },
      "execution_count": null,
      "outputs": [
        {
          "output_type": "stream",
          "name": "stdout",
          "text": [
            "<class 'dict_values'>\n"
          ]
        }
      ]
    }
  ]
}