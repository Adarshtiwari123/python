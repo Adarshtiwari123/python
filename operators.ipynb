{
  "nbformat": 4,
  "nbformat_minor": 0,
  "metadata": {
    "colab": {
      "provenance": [],
      "collapsed_sections": []
    },
    "kernelspec": {
      "name": "python3",
      "display_name": "Python 3"
    },
    "language_info": {
      "name": "python"
    }
  },
  "cells": [
    {
      "cell_type": "code",
      "execution_count": null,
      "metadata": {
        "id": "JhzgUEKq4QR5",
        "colab": {
          "base_uri": "https://localhost:8080/"
        },
        "outputId": "1be75a79-5a85-4054-c17f-bcf2248be604"
      },
      "outputs": [
        {
          "output_type": "stream",
          "name": "stdout",
          "text": [
            "a+b= 12\n",
            "a-b= 8\n",
            "a*b= 20\n",
            "a%b= 0\n",
            "a**b= 100\n"
          ]
        }
      ],
      "source": [
        "#operator\n",
        "#operator is symbols(+,-,*,%) that performs operations\n",
        "#Arithemetic operators\n",
        "#(+,-,%,*,**)\n",
        "#example\n",
        "a=10\n",
        "b=2\n",
        "print(\"a+b=\",a+b)\n",
        "print(\"a-b=\",a-b)\n",
        "print(\"a*b=\",a*b)\n",
        "print(\"a%b=\",a%b)\n",
        "print(\"a**b=\",a**b)"
      ]
    },
    {
      "cell_type": "code",
      "source": [
        "#('+' ) #+ used for concatenation (adding two strings)\n",
        "# +  =string concatenation operator\n",
        "# *  =string multiplication operator\n",
        "#print(\"string\",variable)\n",
        "a=\"prakhar\"\n",
        "print(\"hello\"+a)\n",
        "print(a*2)"
      ],
      "metadata": {
        "colab": {
          "base_uri": "https://localhost:8080/"
        },
        "id": "yXNIr_5x9N7S",
        "outputId": "effe61f7-e2a9-4fc1-ac03-a8ab3409ccae"
      },
      "execution_count": null,
      "outputs": [
        {
          "output_type": "stream",
          "name": "stdout",
          "text": [
            "helloprakhar\n",
            "prakharprakhar\n"
          ]
        }
      ]
    },
    {
      "cell_type": "code",
      "source": [
        "#relational operators >,<,>=,<=\n",
        "#raw_input\n",
        "#typecasting :converting one datatype into another datatype\n",
        "#return type of the input is string\n",
        "#relational operators return type always be BOOLEAN VALUE\n",
        "a=int(input(\"enter first number\"))\n",
        "b=int(input(\"enter second number \"))\n",
        "print(\"a>b=\",a>b)\n",
        "print(\"a>=b\",a>=b)#a>b and a=b\n",
        "print(\"a<b\",a<b)\n",
        "print(\"a<=b\",a<=b)#a<b and a=b\n"
      ],
      "metadata": {
        "colab": {
          "base_uri": "https://localhost:8080/"
        },
        "id": "VNl-_hFU-7J7",
        "outputId": "7ff5816a-eadc-470f-d7d2-5999ce4cd27a"
      },
      "execution_count": null,
      "outputs": [
        {
          "output_type": "stream",
          "name": "stdout",
          "text": [
            "enter first number10\n",
            "enter second number 5\n",
            "a>b= True\n",
            "a>=b True\n",
            "a<b False\n",
            "a<=b False\n"
          ]
        }
      ]
    },
    {
      "cell_type": "code",
      "source": [
        "#logical \n",
        "#and :- arguement are True result is True\n",
        "#:- if atleast one arguement will True then result is True\n",
        "#not :-complement "
      ],
      "metadata": {
        "id": "7zPR8FQkD3xl"
      },
      "execution_count": null,
      "outputs": []
    },
    {
      "cell_type": "code",
      "source": [
        "#assignment operator\n",
        "#value assign toe the operator \n",
        "a+=10\n",
        "a-=10\n",
        "a=1-10\n",
        "a*=10\n",
        "a=a*10\n",
        "a%=10\n",
        "a=a%10\n",
        "a=a+10"
      ],
      "metadata": {
        "id": "uzgknEF9FVsX"
      },
      "execution_count": null,
      "outputs": []
    },
    {
      "cell_type": "code",
      "source": [
        "#ternary operator or conditional operators\n",
        "a,b=10,20\n",
        "#syntax  x=firstvalue(condition true) if condition else  second value(condition false)\n",
        "x=30  if a<b  else 50\n",
        "print(x)"
      ],
      "metadata": {
        "colab": {
          "base_uri": "https://localhost:8080/"
        },
        "id": "daTQlnRVGCG7",
        "outputId": "0ae8530f-ae26-4ece-88b0-b104ae12d2aa"
      },
      "execution_count": null,
      "outputs": [
        {
          "output_type": "stream",
          "name": "stdout",
          "text": [
            "30\n"
          ]
        }
      ]
    },
    {
      "cell_type": "code",
      "source": [
        "#wap to print greatest 3 number\n",
        "a,b=20,10\n",
        "gr=a if a<b else b\n",
        "print(gr)\n"
      ],
      "metadata": {
        "colab": {
          "base_uri": "https://localhost:8080/"
        },
        "id": "_ylKFyJYD2tl",
        "outputId": "1323d4de-a2ae-43f4-cb14-280214d4121a"
      },
      "execution_count": null,
      "outputs": [
        {
          "output_type": "stream",
          "name": "stdout",
          "text": [
            "10\n"
          ]
        }
      ]
    },
    {
      "cell_type": "code",
      "source": [],
      "metadata": {
        "id": "LuMfYMW_CJnr"
      },
      "execution_count": null,
      "outputs": []
    },
    {
      "cell_type": "code",
      "source": [
        "#equality operators\n",
        "# '==' ,'!='\n",
        "a=10\n",
        "b=1\n",
        "if(a==b or a!=b):\n",
        "  print(\"we win\")\n"
      ],
      "metadata": {
        "colab": {
          "base_uri": "https://localhost:8080/"
        },
        "id": "Z3TXHIlrDL8M",
        "outputId": "630b511a-65c2-4731-e2b3-03ebe13eb9c7"
      },
      "execution_count": null,
      "outputs": [
        {
          "output_type": "stream",
          "name": "stdout",
          "text": [
            "we win\n"
          ]
        }
      ]
    },
    {
      "cell_type": "code",
      "source": [
        "#membership operator: to check given object inside a list,variable\n",
        "#bag=(math,eng,hindi,sst,science)\n",
        "#math in bag\n",
        "x=\"prakhar is a good boy\"\n",
        "print('Prakhar' in x)\n",
        "print(\"bad\" not in x)\n",
        "list=['prakhar','adarsh','amit']\n",
        "print('amit' in list)\n",
        "print('prkhra' not in list)\n",
        "\n"
      ],
      "metadata": {
        "id": "nXT3et5V7HgL",
        "colab": {
          "base_uri": "https://localhost:8080/"
        },
        "outputId": "caacd080-01b8-47e9-9553-f80b9ae26434"
      },
      "execution_count": null,
      "outputs": [
        {
          "output_type": "stream",
          "name": "stdout",
          "text": [
            "False\n",
            "True\n",
            "True\n",
            "True\n"
          ]
        }
      ]
    }
  ]
}