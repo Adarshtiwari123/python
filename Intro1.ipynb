{
  "nbformat": 4,
  "nbformat_minor": 0,
  "metadata": {
    "colab": {
      "provenance": [],
      "collapsed_sections": []
    },
    "kernelspec": {
      "name": "python3",
      "display_name": "Python 3"
    },
    "language_info": {
      "name": "python"
    }
  },
  "cells": [
    {
      "cell_type": "code",
      "execution_count": null,
      "metadata": {
        "id": "I0OgqDBfq0vk"
      },
      "outputs": [],
      "source": [
        "#c code\n",
        "#include<stdio.h>\n",
        "#void main()\n",
        "#{\n",
        "    \n",
        "#print(\"hello world\")\n",
        "#}"
      ]
    },
    {
      "cell_type": "code",
      "source": [
        "print(\"hello world :)\")"
      ],
      "metadata": {
        "colab": {
          "base_uri": "https://localhost:8080/"
        },
        "id": "IxUKOt-nrpaH",
        "outputId": "215ce491-1aeb-4b5a-c016-dc55e07c51e0"
      },
      "execution_count": null,
      "outputs": [
        {
          "output_type": "stream",
          "name": "stdout",
          "text": [
            "hello world :)\n"
          ]
        }
      ]
    },
    {
      "cell_type": "code",
      "source": [
        "print(\"hello\")\n",
        "print(\"world\")"
      ],
      "metadata": {
        "colab": {
          "base_uri": "https://localhost:8080/"
        },
        "id": "ials9hJCu9pn",
        "outputId": "fded799f-0915-497e-9c32-030032d1c985"
      },
      "execution_count": null,
      "outputs": [
        {
          "output_type": "stream",
          "name": "stdout",
          "text": [
            "hello\n",
            "world\n"
          ]
        }
      ]
    },
    {
      "cell_type": "code",
      "source": [
        "#indentifier\n",
        "cash=10\n",
        "cas3h=10\n",
        "print(cash)\n",
        "print(cas3h)"
      ],
      "metadata": {
        "colab": {
          "base_uri": "https://localhost:8080/"
        },
        "id": "hr-gh-Syv1_a",
        "outputId": "3e214521-109f-4bf5-d68e-ee5383a60eac"
      },
      "execution_count": null,
      "outputs": [
        {
          "output_type": "stream",
          "name": "stdout",
          "text": [
            "10\n",
            "10\n"
          ]
        }
      ]
    },
    {
      "cell_type": "code",
      "source": [
        "#upper case and lower case\n",
        "A=10\n",
        "a=9\n",
        "print(a)\n",
        "Print(a)\n"
      ],
      "metadata": {
        "colab": {
          "base_uri": "https://localhost:8080/",
          "height": 217
        },
        "id": "VvUfSGK4wxNb",
        "outputId": "30cfa4aa-02be-4cf4-8037-03a95674d7b1"
      },
      "execution_count": null,
      "outputs": [
        {
          "output_type": "stream",
          "name": "stdout",
          "text": [
            "9\n"
          ]
        },
        {
          "output_type": "error",
          "ename": "NameError",
          "evalue": "ignored",
          "traceback": [
            "\u001b[0;31m---------------------------------------------------------------------------\u001b[0m",
            "\u001b[0;31mNameError\u001b[0m                                 Traceback (most recent call last)",
            "\u001b[0;32m<ipython-input-17-453b87ab66de>\u001b[0m in \u001b[0;36m<module>\u001b[0;34m\u001b[0m\n\u001b[1;32m      3\u001b[0m \u001b[0ma\u001b[0m\u001b[0;34m=\u001b[0m\u001b[0;36m9\u001b[0m\u001b[0;34m\u001b[0m\u001b[0;34m\u001b[0m\u001b[0m\n\u001b[1;32m      4\u001b[0m \u001b[0mprint\u001b[0m\u001b[0;34m(\u001b[0m\u001b[0ma\u001b[0m\u001b[0;34m)\u001b[0m\u001b[0;34m\u001b[0m\u001b[0;34m\u001b[0m\u001b[0m\n\u001b[0;32m----> 5\u001b[0;31m \u001b[0mPrint\u001b[0m\u001b[0;34m(\u001b[0m\u001b[0ma\u001b[0m\u001b[0;34m)\u001b[0m\u001b[0;34m\u001b[0m\u001b[0;34m\u001b[0m\u001b[0m\n\u001b[0m",
            "\u001b[0;31mNameError\u001b[0m: name 'Print' is not defined"
          ]
        }
      ]
    },
    {
      "cell_type": "code",
      "source": [],
      "metadata": {
        "id": "rxMgrqSSxTpA"
      },
      "execution_count": null,
      "outputs": []
    },
    {
      "cell_type": "code",
      "source": [
        "1a=10\n",
        "print(1a)"
      ],
      "metadata": {
        "colab": {
          "base_uri": "https://localhost:8080/"
        },
        "id": "rCKD8nLhwTHC",
        "outputId": "5081b551-230e-49b6-9e44-c3bb21c2a49a"
      },
      "execution_count": null,
      "outputs": [
        {
          "output_type": "stream",
          "name": "stdout",
          "text": [
            "10\n"
          ]
        }
      ]
    },
    {
      "cell_type": "code",
      "source": [
        "_a=10\n",
        "print(_a)"
      ],
      "metadata": {
        "colab": {
          "base_uri": "https://localhost:8080/"
        },
        "id": "JJKw8OO3wmeu",
        "outputId": "b4d244ce-e6b5-4a09-d2e5-7c5046959847"
      },
      "execution_count": null,
      "outputs": [
        {
          "output_type": "stream",
          "name": "stdout",
          "text": [
            "10\n"
          ]
        }
      ]
    },
    {
      "cell_type": "code",
      "source": [
        "#datatypes: data types are the type of data present inside a variable.\n",
        "#integer datatype\n",
        "a=10\n",
        "print(\"integer: \",a)\n",
        "print(type(a))\n",
        "b=10.2\n",
        "print(\"float:\", b)\n",
        "print(type(b))\n",
        "sr=\"prakhar jain\"\n",
        "print(\"string : \",sr)\n",
        "print(type(sr))\n",
        "c=True\n",
        "print(\"boolean :\",c)\n",
        "print(type(c))\n",
        "d=2+5j\n",
        "print(d)\n",
        "print(type(d))\n",
        "x=[10,20,2.22,\"prakhar\",True]#list\n",
        "print(x)\n",
        "print(type(x))\n",
        "y=(10,20)#touple\n",
        "print(\"touple :\" ,y)\n",
        "print(type(y))\n",
        "dic={'p':10}#dict={\"key\":value}\n",
        "print(dic)\n",
        "print(type(dic))\n",
        "z=[10,20,30]\n",
        "m=bytes(z)\n",
        "print(m)\n",
        "print(type(m))\n"
      ],
      "metadata": {
        "colab": {
          "base_uri": "https://localhost:8080/"
        },
        "id": "Gshqkl1qxVdA",
        "outputId": "30dc154b-393a-4c78-ae1a-3b70f2c9c978"
      },
      "execution_count": null,
      "outputs": [
        {
          "output_type": "stream",
          "name": "stdout",
          "text": [
            "integer:  10\n",
            "<class 'int'>\n",
            "float: 10.2\n",
            "<class 'float'>\n",
            "string :  prakhar jain\n",
            "<class 'str'>\n",
            "boolean : True\n",
            "<class 'bool'>\n",
            "(2+5j)\n",
            "<class 'complex'>\n",
            "[10, 20, 2.22, 'prakhar', True]\n",
            "<class 'list'>\n",
            "touple : (10, 20)\n",
            "<class 'tuple'>\n",
            "{'p': 10}\n",
            "<class 'dict'>\n",
            "b'\\n\\x14\\x1e'\n",
            "<class 'bytes'>\n"
          ]
        }
      ]
    },
    {
      "cell_type": "code",
      "source": [],
      "metadata": {
        "colab": {
          "base_uri": "https://localhost:8080/"
        },
        "id": "srEQZOYN17JL",
        "outputId": "761db7cf-19c7-48e8-a9f5-db12df174544"
      },
      "execution_count": null,
      "outputs": [
        {
          "output_type": "stream",
          "name": "stdout",
          "text": [
            "{'p': 10}\n"
          ]
        }
      ]
    }
  ]
}