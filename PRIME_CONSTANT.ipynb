{
  "nbformat": 4,
  "nbformat_minor": 0,
  "metadata": {
    "colab": {
      "provenance": [],
      "collapsed_sections": []
    },
    "kernelspec": {
      "name": "python3",
      "display_name": "Python 3"
    },
    "language_info": {
      "name": "python"
    }
  },
  "cells": [
    {
      "cell_type": "code",
      "execution_count": null,
      "metadata": {
        "colab": {
          "base_uri": "https://localhost:8080/"
        },
        "id": "OVWbVl2bbWU2",
        "outputId": "9d77b3c5-d41a-496f-a52e-578debd5f9c1"
      },
      "outputs": [
        {
          "output_type": "stream",
          "name": "stdout",
          "text": [
            "enter your number17\n",
            "thats prime number\n"
          ]
        }
      ],
      "source": [
        "#wap to print prime number\n",
        "n=int(input(\"enter your number\"))\n",
        "k=0\n",
        "for i in range(1,n+1):\n",
        "  if n%i==0:\n",
        "    k=k+1\n",
        "if(k==2):\n",
        "    print(\"thats prime number\")\n",
        "else:\n",
        "    print(\"not a prime number\")"
      ]
    },
    {
      "cell_type": "code",
      "source": [],
      "metadata": {
        "id": "qDq8VeCVdcok"
      },
      "execution_count": null,
      "outputs": []
    },
    {
      "cell_type": "code",
      "source": [],
      "metadata": {
        "id": "TzTjt5oRfzoB"
      },
      "execution_count": null,
      "outputs": []
    },
    {
      "cell_type": "code",
      "source": [
        "darsh"
      ],
      "metadata": {
        "id": "RR6w73QUg3a8"
      },
      "execution_count": null,
      "outputs": []
    },
    {
      "cell_type": "code",
      "source": [
        "#Write a recursive function to compute the count of vowels and consonants in a string\n",
        "st=input(\"enter your string :\")\n",
        "print(\"length of the string is :\",len(st))\n",
        "c=0\n",
        "z=0\n",
        "for i in st:\n",
        "  if(i=='a'or i==\"i\"or i=='e'or i==\"u\" or i==\"o\"):\n",
        "    c=c+1\n",
        "   \n",
        "  elif(i!='a'or i!=\"i\"or i!='e'or i!=\"u\" or i!=\"o\"):\n",
        "     z=z+1\n",
        "print(\"vowel counted\",c)     \n",
        "print(\"consonants are : \",z)\n",
        "\n",
        "  \n",
        "\n",
        "\n"
      ],
      "metadata": {
        "colab": {
          "base_uri": "https://localhost:8080/"
        },
        "id": "r3UZPNMbctL0",
        "outputId": "5b6ae2b0-dbca-4f62-97d1-9f1246b6c6e9"
      },
      "execution_count": null,
      "outputs": [
        {
          "output_type": "stream",
          "name": "stdout",
          "text": [
            "enter your string :prakhar\n",
            "length of the string is : 7\n",
            "vowel counted 2\n",
            "consonants are :  5\n"
          ]
        }
      ]
    }
  ]
}