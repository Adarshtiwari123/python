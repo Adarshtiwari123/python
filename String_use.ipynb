{
  "cells": [
    {
      "cell_type": "code",
      "execution_count": null,
      "metadata": {
        "colab": {
          "base_uri": "https://localhost:8080/"
        },
        "id": "9CZwbaIRgdaD",
        "outputId": "d99a9410-09ed-4d94-e7ac-c9e66b5efd12"
      },
      "outputs": [
        {
          "name": "stdout",
          "output_type": "stream",
          "text": [
            "hello welcome\n"
          ]
        }
      ],
      "source": [
        "#strings example for learing\n",
        "#string is a collections of letter which  is imutable(means cannot be changed while updating new value)\n",
        "str=\"hello welcome\"\n",
        "print(str)"
      ]
    },
    {
      "cell_type": "code",
      "source": [
        "from google.colab import drive\n",
        "\n",
        "drive.mount(\"/content/gdrive\")"
      ],
      "metadata": {
        "colab": {
          "base_uri": "https://localhost:8080/"
        },
        "id": "X9LHmYclOsCx",
        "outputId": "73cb8c40-c082-4a57-c67e-558fdc429037"
      },
      "execution_count": null,
      "outputs": [
        {
          "output_type": "stream",
          "name": "stdout",
          "text": [
            "Drive already mounted at /content/gdrive; to attempt to forcibly remount, call drive.mount(\"/content/gdrive\", force_remount=True).\n"
          ]
        }
      ]
    },
    {
      "cell_type": "code",
      "execution_count": null,
      "metadata": {
        "colab": {
          "base_uri": "https://localhost:8080/"
        },
        "id": "FSzttWPXg5rX",
        "outputId": "01ed230a-f6b9-4aa8-84a9-a2a56202e73f"
      },
      "outputs": [
        {
          "name": "stdout",
          "output_type": "stream",
          "text": [
            "hello world\n"
          ]
        }
      ],
      "source": [
        "str=\"world\"\n",
        "print(\"hello\"+str)"
      ]
    },
    {
      "cell_type": "code",
      "execution_count": null,
      "metadata": {
        "colab": {
          "base_uri": "https://localhost:8080/"
        },
        "id": "XqdJB3v4hHP-",
        "outputId": "bb5d8eb9-9e4c-4278-b02c-ec8f05b7905f"
      },
      "outputs": [
        {
          "name": "stdout",
          "output_type": "stream",
          "text": [
            "Hello ADARSH\n"
          ]
        }
      ],
      "source": [
        "str=\"ADARSH\"\n",
        "print(\"Hello\"+' '+str)"
      ]
    },
    {
      "cell_type": "code",
      "execution_count": null,
      "metadata": {
        "colab": {
          "base_uri": "https://localhost:8080/"
        },
        "id": "Ki3HiG-RhUMh",
        "outputId": "89807728-8812-4431-e184-d0147e463ad5"
      },
      "outputs": [
        {
          "name": "stdout",
          "output_type": "stream",
          "text": [
            "h\n",
            "e\n",
            "l\n",
            "l\n",
            "o\n"
          ]
        }
      ],
      "source": [
        "#string indexes for checking\n",
        "str=\"hello\"\n",
        "print(str[0])\n",
        "print(str[1])\n",
        "print(str[2])\n",
        "print(str[3])\n",
        "print(str[4])"
      ]
    },
    {
      "cell_type": "code",
      "execution_count": null,
      "metadata": {
        "colab": {
          "base_uri": "https://localhost:8080/"
        },
        "id": "fmGMKah0hIja",
        "outputId": "9d282c13-2082-4881-e66b-0ed1eec4a114"
      },
      "outputs": [
        {
          "name": "stdout",
          "output_type": "stream",
          "text": [
            "string index at 0 at is  a\n",
            "string index at 1 at is  d\n",
            "string index at 2 at is  a\n",
            "string index at 3 at is  r\n",
            "string index at 4 at is  s\n",
            "string index at 5 at is  h\n"
          ]
        }
      ],
      "source": [
        "str=\"adarsh\"\n",
        "j=0\n",
        "for i in str:\n",
        "  print(\"string index at\",j,\"at is \",i)\n",
        "  j=j+1\n",
        "  "
      ]
    },
    {
      "cell_type": "code",
      "execution_count": null,
      "metadata": {
        "colab": {
          "base_uri": "https://localhost:8080/"
        },
        "id": "AHGOP60-rUEG",
        "outputId": "5b1b767c-426b-41aa-bb4b-57cddd2f62f0"
      },
      "outputs": [
        {
          "output_type": "stream",
          "name": "stdout",
          "text": [
            "hey world\n",
            "h\n",
            "hey world\n",
            "h\n",
            "e\n",
            "y\n",
            " \n",
            "w\n",
            "o\n",
            "r\n",
            "l\n",
            "d\n"
          ]
        }
      ],
      "source": [
        "#check string is mutable or imutable\n",
        "str=\"hey world\"\n",
        "print(str)\n",
        "print(str[0])#that pribnt the index value of 2i.e is 'Y'\n",
        "#str[2]=\"N\"\n",
        "print(str) \n",
        "\n",
        "for i in str:\n",
        "  print(i)"
      ]
    },
    {
      "cell_type": "code",
      "execution_count": null,
      "metadata": {
        "colab": {
          "base_uri": "https://localhost:8080/"
        },
        "id": "AsyJ1_puhosp",
        "outputId": "cdec9524-0d04-4dca-9468-daf998e4d724"
      },
      "outputs": [
        {
          "output_type": "stream",
          "name": "stdout",
          "text": [
            "hello hello\n",
            "Hello India\n"
          ]
        }
      ],
      "source": [
        "str=\"hello\" #capitalize is only used to capitalize the first letter of the string\n",
        "str1=\"india\"\n",
        "st=str.capitalize()\n",
        "st1=str1.capitalize()\n",
        "print(str,str)#heres the example where we can  see it\n",
        "print(st,st1)"
      ]
    },
    {
      "cell_type": "code",
      "execution_count": null,
      "metadata": {
        "colab": {
          "base_uri": "https://localhost:8080/"
        },
        "id": "wmmwHmlaqyzG",
        "outputId": "c4b401df-09f4-4251-c312-5245d63a1aa0"
      },
      "outputs": [
        {
          "name": "stdout",
          "output_type": "stream",
          "text": [
            "Hello Adarsh\n",
            "hello adarsh\n"
          ]
        }
      ],
      "source": [
        "str=\"Hello Adarsh\"\n",
        "st=str.casefold()\n",
        "print(str)\n",
        "print(st)"
      ]
    },
    {
      "cell_type": "code",
      "execution_count": null,
      "metadata": {
        "colab": {
          "base_uri": "https://localhost:8080/"
        },
        "id": "Tra6MF8J2YTx",
        "outputId": "b1da4a6e-5d4c-41b6-a5f9-d13a5748e65d"
      },
      "outputs": [
        {
          "name": "stdout",
          "output_type": "stream",
          "text": [
            "hello hello wello\n",
            "6\n"
          ]
        }
      ],
      "source": [
        "str=\"hello hello wello\"\n",
        "st=str.count(\"l\")#count() function is used for count the specific charractor in  a string \n",
        "print(str)\n",
        "print(st)"
      ]
    },
    {
      "cell_type": "code",
      "execution_count": null,
      "metadata": {
        "id": "2kn0al8S4VHD"
      },
      "outputs": [],
      "source": []
    },
    {
      "cell_type": "code",
      "execution_count": null,
      "metadata": {
        "colab": {
          "base_uri": "https://localhost:8080/"
        },
        "id": "tLiBrvRX2q8S",
        "outputId": "9d9ab93b-2b59-491d-b162-a4d02004f632"
      },
      "outputs": [
        {
          "name": "stdout",
          "output_type": "stream",
          "text": [
            "<class 'str'>\n",
            "hello  world  adarsh \n",
            "    hello  world  adarsh      \n"
          ]
        }
      ],
      "source": [
        "str=\"hello  world  adarsh \"\n",
        "st=str.center(30)#center is prints the string as in counts the spaces after it\n",
        "print(type(st))\n",
        "print(str)\n",
        "print(st)"
      ]
    },
    {
      "cell_type": "code",
      "execution_count": null,
      "metadata": {
        "colab": {
          "base_uri": "https://localhost:8080/"
        },
        "id": "PvASXQPG4Tgx",
        "outputId": "74ddf01b-8bfa-46fa-fa59-83f00693c0bb"
      },
      "outputs": [
        {
          "name": "stdout",
          "output_type": "stream",
          "text": [
            "Adarsh\n",
            "b'Adarsh'\n"
          ]
        }
      ],
      "source": [
        "str=\"Adarsh\"\n",
        "st=str.encode()#encode() is Returns an encoded version of the string\n",
        "print(str)\n",
        "print(st)"
      ]
    },
    {
      "cell_type": "code",
      "execution_count": null,
      "metadata": {
        "colab": {
          "base_uri": "https://localhost:8080/"
        },
        "id": "g18rE7VC40Mj",
        "outputId": "ee5dff99-95cc-49dc-9fc5-fa761bc1a084"
      },
      "outputs": [
        {
          "name": "stdout",
          "output_type": "stream",
          "text": [
            "<class 'bool'>\n",
            "hello my world\n",
            "True\n"
          ]
        }
      ],
      "source": [
        "str=\"hello my world\"\n",
        "st=str.endswith(\"world\")#this endswith is used to return the last value of the string is true or not\n",
        "print(type(st))\n",
        "print(str)\n",
        "print(st)"
      ]
    },
    {
      "cell_type": "code",
      "execution_count": null,
      "metadata": {
        "colab": {
          "base_uri": "https://localhost:8080/"
        },
        "id": "JToCVjJH4d_2",
        "outputId": "d5091656-4e6b-4f41-f1d1-76a10225e507"
      },
      "outputs": [
        {
          "name": "stdout",
          "output_type": "stream",
          "text": [
            "hello honey singh\n",
            "12\n",
            "3\n"
          ]
        }
      ],
      "source": [
        "str=\"hello honey singh\"\n",
        "st=str.find('singh')#this returns the exact index of the string or charractor and Searches the string for a specified value and returns the position of where it was found\n",
        "st1=str.count(\"h\")\n",
        "print(str)\n",
        "print(st)\n",
        "print(st1)"
      ]
    },
    {
      "cell_type": "code",
      "execution_count": null,
      "metadata": {
        "colab": {
          "base_uri": "https://localhost:8080/"
        },
        "id": "-tsK5gLw5y67",
        "outputId": "2d65cc0b-bb75-416c-e941-7a4a4fe83cfc"
      },
      "outputs": [
        {
          "name": "stdout",
          "output_type": "stream",
          "text": [
            "helloo world\n",
            "7\n"
          ]
        }
      ],
      "source": [
        "str=\"helloo world\"\n",
        "st=str.index('world')#index is used to return the index value of the strinh\n",
        "print(str)\n",
        "print(st)"
      ]
    },
    {
      "cell_type": "code",
      "execution_count": null,
      "metadata": {
        "colab": {
          "base_uri": "https://localhost:8080/"
        },
        "id": "Zgf3d4HF6WVO",
        "outputId": "0687f460-b787-405d-f65e-131828678bc2"
      },
      "outputs": [
        {
          "name": "stdout",
          "output_type": "stream",
          "text": [
            "hrlo\n",
            "True\n"
          ]
        }
      ],
      "source": [
        "str=\"hrlo\" #Returns True if all characters in the string are alphanumeric\n",
        "st=str.isalnum()\n",
        "print(str)\n",
        "print(st)"
      ]
    },
    {
      "cell_type": "code",
      "execution_count": null,
      "metadata": {
        "colab": {
          "base_uri": "https://localhost:8080/"
        },
        "id": "IUI--hcSsHPb",
        "outputId": "57473a06-68be-49eb-83b7-1086599ffd61"
      },
      "outputs": [
        {
          "name": "stdout",
          "output_type": "stream",
          "text": [
            "eLLO\n",
            "True\n"
          ]
        }
      ],
      "source": [
        "str=\"eLLO\"\n",
        "st=str.isalpha()#Returns True if all characters in the string are in the alphabet\n",
        "print(str)\n",
        "print(st)"
      ]
    },
    {
      "cell_type": "code",
      "execution_count": null,
      "metadata": {
        "colab": {
          "base_uri": "https://localhost:8080/"
        },
        "id": "clhAfPAduO-S",
        "outputId": "3c3ec8e8-0557-4bcf-8dc9-eb282ce4f1f3"
      },
      "outputs": [
        {
          "name": "stdout",
          "output_type": "stream",
          "text": [
            "22\n",
            "True\n"
          ]
        }
      ],
      "source": [
        "str=\"22\"\n",
        "st=str.isdigit()#returns TRUE IF all the value of the string is true\n",
        "print(str)\n",
        "print(st)"
      ]
    },
    {
      "cell_type": "code",
      "execution_count": null,
      "metadata": {
        "colab": {
          "base_uri": "https://localhost:8080/"
        },
        "id": "ROcPlGUcuoUt",
        "outputId": "faea21ec-b791-41d1-a91c-4db07b23f39b"
      },
      "outputs": [
        {
          "name": "stdout",
          "output_type": "stream",
          "text": [
            " hell\n",
            "False\n"
          ]
        }
      ],
      "source": [
        "str=\" \"\n",
        "st=str.isspace()#returns TRUE if string have only the whitespaces\n",
        "print(str)\n",
        "print(st)"
      ]
    },
    {
      "cell_type": "code",
      "execution_count": null,
      "metadata": {
        "colab": {
          "base_uri": "https://localhost:8080/"
        },
        "id": "0NF-5hVrvEW2",
        "outputId": "a51cf4c4-b7fd-466b-b0a9-4ef8ba402ce5"
      },
      "outputs": [
        {
          "name": "stdout",
          "output_type": "stream",
          "text": [
            "welcome to my jungle\n",
            "['welcome', 'to', 'my', 'jungle']\n"
          ]
        }
      ],
      "source": [
        "str=\"welcome to my jungle\"\n",
        "st=str.split()#convert string to touple\n",
        "print(str)\n",
        "print(st)"
      ]
    },
    {
      "cell_type": "code",
      "execution_count": null,
      "metadata": {
        "colab": {
          "background_save": true,
          "base_uri": "https://localhost:8080/"
        },
        "id": "7NDWjyA5vyyJ",
        "outputId": "e4a6104b-1339-4d6b-e736-efed0c603a3c"
      },
      "outputs": [
        {
          "name": "stdout",
          "output_type": "stream",
          "text": [
            "['Thank you for the music Welcome to the jungle']\n"
          ]
        }
      ],
      "source": [
        "txt = \"Thank you for the music\\nWelcome to the jungle\"\n",
        "\n",
        "x = txt.splitlines()\n",
        "\n",
        "print(x)"
      ]
    }
  ],
  "metadata": {
    "colab": {
      "collapsed_sections": [],
      "provenance": []
    },
    "kernelspec": {
      "display_name": "Python 3",
      "name": "python3"
    },
    "language_info": {
      "name": "python"
    }
  },
  "nbformat": 4,
  "nbformat_minor": 0
}