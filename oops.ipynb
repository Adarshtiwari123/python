{
  "nbformat": 4,
  "nbformat_minor": 0,
  "metadata": {
    "colab": {
      "provenance": [],
      "collapsed_sections": []
    },
    "kernelspec": {
      "name": "python3",
      "display_name": "Python 3"
    },
    "language_info": {
      "name": "python"
    }
  },
  "cells": [
    {
      "cell_type": "code",
      "execution_count": null,
      "metadata": {
        "id": "ZuPfwCOxJc76"
      },
      "outputs": [],
      "source": [
        "#class ,object,refence variable,instance variable,static variable,method variable,self variable,contructor,defence btw function and constructor,doc string\n"
      ]
    },
    {
      "cell_type": "code",
      "source": [],
      "metadata": {
        "id": "NO376ph2i8mX"
      },
      "execution_count": null,
      "outputs": []
    },
    {
      "cell_type": "code",
      "source": [],
      "metadata": {
        "id": "lTs0eIppc8nh"
      },
      "execution_count": null,
      "outputs": []
    },
    {
      "cell_type": "code",
      "source": [
        "#module : a group of fucntions or variable and classes saved in a file .\n",
        "#.py save() "
      ],
      "metadata": {
        "id": "EdX-EKDAKXZI"
      },
      "execution_count": null,
      "outputs": []
    },
    {
      "cell_type": "code",
      "source": [
        "#\"\"\"oops\"\"\""
      ],
      "metadata": {
        "id": "QVI7EafrZ8TY"
      },
      "execution_count": null,
      "outputs": []
    },
    {
      "cell_type": "code",
      "source": [
        "# class: in python everything is an object..to create an objet to access any particular  model or plan  or blue print which is  not but class"
      ],
      "metadata": {
        "id": "OmS0y4FjZ_4N"
      },
      "execution_count": null,
      "outputs": []
    },
    {
      "cell_type": "code",
      "source": [
        "#class uses for representing properties (attributes)(they variables)  and action(behaviour)(function) of an object.\n"
      ],
      "metadata": {
        "id": "dPuRI88MbaEA"
      },
      "execution_count": null,
      "outputs": []
    },
    {
      "cell_type": "code",
      "source": [
        "#how to define a class in python\n",
        "#class class_name:\n",
        "  #\"documentation string\" #class description doc string or optional .__doc__\n",
        "#variable: \n",
        "\n"
      ],
      "metadata": {
        "id": "PsqDlJUNcVmZ"
      },
      "execution_count": null,
      "outputs": []
    },
    {
      "cell_type": "code",
      "source": [
        "#doc string\n",
        "class Stu:\n",
        "  \"\"\"this is class of students\"\"\"\n",
        "print(Stu.__doc__)\n"
      ],
      "metadata": {
        "colab": {
          "base_uri": "https://localhost:8080/"
        },
        "id": "_7g0uSl5c90O",
        "outputId": "06014c39-f036-45d2-d776-ea34cca08d84"
      },
      "execution_count": null,
      "outputs": [
        {
          "output_type": "stream",
          "name": "stdout",
          "text": [
            "this is class of students\n"
          ]
        }
      ]
    },
    {
      "cell_type": "code",
      "source": [
        "#object : physical entity or existence  represent by the method \n",
        "class Prakhar:\n",
        "  '''there is the data of the prakhar class'''\n",
        "  def __init__(self): #constructor\n",
        "    self.name=\"prkhar\"\n",
        "    self.age=20\n",
        "    self.address=\"jaipur\"\n",
        "  def hello(self):   #function\n",
        "     print(\"hello i am  : \",self.name)\n",
        "     print(\"hello i am  : \",self.age)\n",
        "     print(\"hello i am  : \",self.address)\n",
        "     \n",
        "     \n",
        "\n",
        "p=Prakhar()\n",
        "p.hello()\n"
      ],
      "metadata": {
        "colab": {
          "base_uri": "https://localhost:8080/"
        },
        "id": "8z8Cc6wae6Rt",
        "outputId": "5b9706cc-5129-446a-8e57-381a774dd323"
      },
      "execution_count": null,
      "outputs": [
        {
          "output_type": "stream",
          "name": "stdout",
          "text": [
            "hello i am  :  prkhar\n",
            "hello i am  :  20\n",
            "hello i am  :  jaipur\n"
          ]
        }
      ]
    },
    {
      "cell_type": "code",
      "source": [
        "#class,object,self keyword,__init__.\n",
        "#class : in python everything is a object. to create a object are required to call a class or model or plan or blue print it is as class.\n",
        "#classes contains attributes(functions) and actions(working of the function) .\n",
        "#object : real or physically existence of a class  .Object is a nothing but a variable thats contain a class\n",
        "#syntax of object creation\n",
        "#referneceVariable=classname()\n",
        "#refernce variable which is used to refer object .\n",
        "#self : It is a default variable which is poining to current object .\n",
        "#By using the self  we can access the instance variable and instance methods\n",
        "#constructor : is a function which is automatically calls at the time of object creation .\n",
        "#__init__(self):initialisation \n"
      ],
      "metadata": {
        "id": "QDphIetcZ8cB"
      },
      "execution_count": null,
      "outputs": []
    },
    {
      "cell_type": "code",
      "source": [
        "class Teacher:\n",
        "  def __init__(self,name,salary,age):\n",
        "    self.name=name\n",
        "    self.salary=salary\n",
        "    self.age=age\n",
        "\n",
        "s=Teacher(\"vibha\",20000,20)\n",
        "print(s.name)\n",
        "print(s.salary)\n",
        "print(s.age)\n"
      ],
      "metadata": {
        "colab": {
          "base_uri": "https://localhost:8080/"
        },
        "id": "paWo4m34fLTT",
        "outputId": "3864b580-f6cd-42ba-ef81-ac80ff6fbcdf"
      },
      "execution_count": null,
      "outputs": [
        {
          "output_type": "stream",
          "name": "stdout",
          "text": [
            "vibha\n",
            "20000\n",
            "20\n"
          ]
        }
      ]
    },
    {
      "cell_type": "code",
      "source": [
        "class Student:\n",
        "  def __init__(self,name,rollno,marks): #constructor\n",
        "    self.name=name #instance variable\n",
        "    self.rollno=rollno #\n",
        "    self.marks=marks\n",
        "  def f(self): #function\n",
        "      print(\"hello my name is : \",self.name)\n",
        "      print(\"my roll no is: \",self.rollno)\n",
        "      print(\"my marks is : \",self.marks)\n",
        "s=Student(\"prakhar\",29,100)\n",
        "print(s.name)\n",
        "print(s.rollno)\n",
        "print(s.marks)\n",
        "s.f()\n",
        "\n",
        "\n",
        "\n"
      ],
      "metadata": {
        "colab": {
          "base_uri": "https://localhost:8080/"
        },
        "id": "CH3W_xk0ZcQ5",
        "outputId": "65b8941c-877a-4797-8f9f-47c04c53860f"
      },
      "execution_count": null,
      "outputs": [
        {
          "output_type": "stream",
          "name": "stdout",
          "text": [
            "prakhar\n",
            "29\n",
            "100\n",
            "hello my name is :  prakhar\n",
            "my roll no is:  29\n",
            "my marks is :  100\n"
          ]
        }
      ]
    },
    {
      "cell_type": "code",
      "source": [
        "#constructor execution  vs method execution\n",
        "class Help:\n",
        "  def __init__(self):\n",
        "    print(\"constructor execution\")\n",
        "  def m(self):\n",
        "    print(\"method execution\")\n",
        "h=Help()\n",
        "h.m()\n",
        "p=Help()\n",
        "p.m()\n"
      ],
      "metadata": {
        "colab": {
          "base_uri": "https://localhost:8080/"
        },
        "id": "IrqP8Ze0lj7n",
        "outputId": "97b0adf8-b6f7-4d2f-bc95-20d9f5276862"
      },
      "execution_count": null,
      "outputs": [
        {
          "output_type": "stream",
          "name": "stdout",
          "text": [
            "constructor execution\n",
            "method execution\n",
            "constructor execution\n",
            "method execution\n"
          ]
        }
      ]
    },
    {
      "cell_type": "code",
      "source": [
        "class Student:\n",
        "  def __init__(self,id,name,age):\n",
        "    self.id=id\n",
        "    self.name=name\n",
        "    self.age=age\n",
        "  def display(self):\n",
        "    print(\"your id is : \",self.id)\n",
        "    print(\"your name : \",self.name)\n",
        "    print(\"your age : \",self.age)\n",
        "s=Student(11,\"prakhar\",20)\n",
        "s.display()\n",
        "s=Student(21,\"adarsh\",20)\n",
        "s.display()\n",
        "\n"
      ],
      "metadata": {
        "colab": {
          "base_uri": "https://localhost:8080/"
        },
        "id": "1K3fBGl6i_Wj",
        "outputId": "d6e4928e-046b-41af-a200-cf735e69f3e5"
      },
      "execution_count": null,
      "outputs": [
        {
          "output_type": "stream",
          "name": "stdout",
          "text": [
            "your id is :  11\n",
            "your name :  prakhar\n",
            "your age :  20\n",
            "your id is :  21\n",
            "your name :  adarsh\n",
            "your age :  20\n"
          ]
        }
      ]
    },
    {
      "cell_type": "code",
      "source": [
        "#access the instance variable\n",
        "class Name:\n",
        "  def __init__(self):\n",
        "    self.a=2 #instance variable\n",
        "    self.b=3  #instance variable\n",
        "  def dis(self):                                 #instance method\n",
        "    print(\"value of a \",self.a)\n",
        "    print(\"value of b is :\",self.b)\n",
        "\n",
        "n=Name()\n",
        "n.dis()\n"
      ],
      "metadata": {
        "colab": {
          "base_uri": "https://localhost:8080/"
        },
        "id": "Ker3QIKzkxmr",
        "outputId": "8c7b9474-2f99-4af4-fc68-bb0c5afc1b9c"
      },
      "execution_count": null,
      "outputs": [
        {
          "output_type": "stream",
          "name": "stdout",
          "text": [
            "value of a  2\n",
            "value of b is : 3\n"
          ]
        }
      ]
    },
    {
      "cell_type": "code",
      "source": [],
      "metadata": {
        "colab": {
          "base_uri": "https://localhost:8080/",
          "height": 321
        },
        "id": "LuxlKmcSoAkv",
        "outputId": "7eb7de46-5bf6-4c0c-86a7-51d58a4847f6"
      },
      "execution_count": null,
      "outputs": [
        {
          "output_type": "error",
          "ename": "AttributeError",
          "evalue": "ignored",
          "traceback": [
            "\u001b[0;31m---------------------------------------------------------------------------\u001b[0m",
            "\u001b[0;31mAttributeError\u001b[0m                            Traceback (most recent call last)",
            "\u001b[0;32m<ipython-input-29-f8f37aab8d11>\u001b[0m in \u001b[0;36m<module>\u001b[0;34m\u001b[0m\n\u001b[1;32m      9\u001b[0m     \u001b[0mprint\u001b[0m\u001b[0;34m(\u001b[0m\u001b[0;34m\"C is :\"\u001b[0m\u001b[0;34m,\u001b[0m\u001b[0mself\u001b[0m\u001b[0;34m.\u001b[0m\u001b[0mc\u001b[0m\u001b[0;34m)\u001b[0m\u001b[0;34m\u001b[0m\u001b[0;34m\u001b[0m\u001b[0m\n\u001b[1;32m     10\u001b[0m \u001b[0mn\u001b[0m\u001b[0;34m=\u001b[0m\u001b[0mname\u001b[0m\u001b[0;34m(\u001b[0m\u001b[0;34m)\u001b[0m\u001b[0;34m\u001b[0m\u001b[0;34m\u001b[0m\u001b[0m\n\u001b[0;32m---> 11\u001b[0;31m \u001b[0mn\u001b[0m\u001b[0;34m.\u001b[0m\u001b[0mdis\u001b[0m\u001b[0;34m(\u001b[0m\u001b[0;34m)\u001b[0m\u001b[0;34m\u001b[0m\u001b[0;34m\u001b[0m\u001b[0m\n\u001b[0m",
            "\u001b[0;32m<ipython-input-29-f8f37aab8d11>\u001b[0m in \u001b[0;36mdis\u001b[0;34m(self)\u001b[0m\n\u001b[1;32m      5\u001b[0m     \u001b[0mself\u001b[0m\u001b[0;34m.\u001b[0m\u001b[0mc\u001b[0m\u001b[0;34m=\u001b[0m\u001b[0;36m30\u001b[0m\u001b[0;34m\u001b[0m\u001b[0;34m\u001b[0m\u001b[0m\n\u001b[1;32m      6\u001b[0m   \u001b[0;32mdef\u001b[0m \u001b[0mdis\u001b[0m\u001b[0;34m(\u001b[0m\u001b[0mself\u001b[0m\u001b[0;34m)\u001b[0m\u001b[0;34m:\u001b[0m\u001b[0;34m\u001b[0m\u001b[0;34m\u001b[0m\u001b[0m\n\u001b[0;32m----> 7\u001b[0;31m     \u001b[0mprint\u001b[0m\u001b[0;34m(\u001b[0m\u001b[0;34m\"A is :\"\u001b[0m\u001b[0;34m,\u001b[0m\u001b[0mself\u001b[0m\u001b[0;34m.\u001b[0m\u001b[0ma\u001b[0m\u001b[0;34m)\u001b[0m\u001b[0;34m\u001b[0m\u001b[0;34m\u001b[0m\u001b[0m\n\u001b[0m\u001b[1;32m      8\u001b[0m     \u001b[0mprint\u001b[0m\u001b[0;34m(\u001b[0m\u001b[0;34m\"B is :\"\u001b[0m\u001b[0;34m,\u001b[0m\u001b[0mself\u001b[0m\u001b[0;34m.\u001b[0m\u001b[0mb\u001b[0m\u001b[0;34m)\u001b[0m\u001b[0;34m\u001b[0m\u001b[0;34m\u001b[0m\u001b[0m\n\u001b[1;32m      9\u001b[0m     \u001b[0mprint\u001b[0m\u001b[0;34m(\u001b[0m\u001b[0;34m\"C is :\"\u001b[0m\u001b[0;34m,\u001b[0m\u001b[0mself\u001b[0m\u001b[0;34m.\u001b[0m\u001b[0mc\u001b[0m\u001b[0;34m)\u001b[0m\u001b[0;34m\u001b[0m\u001b[0;34m\u001b[0m\u001b[0m\n",
            "\u001b[0;31mAttributeError\u001b[0m: 'name' object has no attribute 'a'"
          ]
        }
      ]
    },
    {
      "cell_type": "code",
      "source": [],
      "metadata": {
        "id": "KLRcxtcDoSmv"
      },
      "execution_count": null,
      "outputs": []
    }
  ]
}