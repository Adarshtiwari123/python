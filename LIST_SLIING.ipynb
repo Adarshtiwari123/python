{
  "nbformat": 4,
  "nbformat_minor": 0,
  "metadata": {
    "colab": {
      "provenance": [],
      "collapsed_sections": []
    },
    "kernelspec": {
      "name": "python3",
      "display_name": "Python 3"
    },
    "language_info": {
      "name": "python"
    }
  },
  "cells": [
    {
      "cell_type": "code",
      "execution_count": null,
      "metadata": {
        "colab": {
          "base_uri": "https://localhost:8080/"
        },
        "id": "1v-CMnMtC3vb",
        "outputId": "e0328bce-d0bb-48ca-8956-76a0b326c4fc"
      },
      "outputs": [
        {
          "output_type": "stream",
          "name": "stdout",
          "text": [
            "[11, 22.43, 9, 'help']\n",
            "4\n",
            "help\n",
            "e\n"
          ]
        }
      ],
      "source": [
        "liye=[11,22.43,9,\"help\"]\n",
        "print(li)\n",
        "print(len(li))\n",
        "print(li[3])\n",
        "print(li[3][1])"
      ]
    },
    {
      "cell_type": "code",
      "source": [
        "li1=[11,22.4,\"hello\",True]\n",
        "print(li1[0])\n",
        "print(li1[1])\n",
        "print(li1[2])\n",
        "print(li1[2])\n",
        "print(li1[2][:4])\n",
        "print(li1[2][0])\n",
        "print(li1[2][1])\n",
        "print(li1[2][2])\n",
        "print(li1[2][3])\n",
        "print(li1[2][4])\n"
      ],
      "metadata": {
        "colab": {
          "base_uri": "https://localhost:8080/"
        },
        "id": "O4MdOt6CC_4M",
        "outputId": "ce286f7b-97dc-47fb-e318-d9792d25fb06"
      },
      "execution_count": null,
      "outputs": [
        {
          "output_type": "stream",
          "name": "stdout",
          "text": [
            "11\n",
            "22.4\n",
            "hello\n",
            "hello\n",
            "hell\n",
            "h\n",
            "e\n",
            "l\n",
            "l\n",
            "o\n"
          ]
        }
      ]
    },
    {
      "cell_type": "code",
      "source": [],
      "metadata": {
        "id": "YFEnrdWUGVks"
      },
      "execution_count": null,
      "outputs": []
    },
    {
      "cell_type": "code",
      "source": [
        "#append method is used to addthe items inside a list\n",
        "l=[11,22,\"heeloop\"]\n",
        "l2=l.append(\"krishna\")\n",
        "print(l)\n",
        "print(type(l2))"
      ],
      "metadata": {
        "colab": {
          "base_uri": "https://localhost:8080/"
        },
        "id": "lkhGqSz1IQzM",
        "outputId": "83a43fcd-6d08-4303-d7b1-1d9bffa03190"
      },
      "execution_count": null,
      "outputs": [
        {
          "output_type": "stream",
          "name": "stdout",
          "text": [
            "[11, 22, 'heeloop', 'krishna']\n",
            "<class 'NoneType'>\n"
          ]
        }
      ]
    },
    {
      "cell_type": "code",
      "source": [
        "#extend method\n",
        "p=[1,33.3,\"hello\"]\n",
        "print(p)\n",
        "q=[2,66.6,\"world\"]\n",
        "print(q)\n",
        "r=[3,99.9,\"adarsh\"]\n",
        "print(r)\n",
        "l=p.extend(q)\n",
        "print(\"p is extended with q(p+q)\",p)\n",
        "m=p.extend(r)\n",
        "print(\"p is extended with r(p+r)\",p)"
      ],
      "metadata": {
        "colab": {
          "base_uri": "https://localhost:8080/"
        },
        "id": "1j5baGs4IjIa",
        "outputId": "c9680d05-f338-467f-f8a4-6511769c0832"
      },
      "execution_count": null,
      "outputs": [
        {
          "output_type": "stream",
          "name": "stdout",
          "text": [
            "[1, 33.3, 'hello']\n",
            "[2, 66.6, 'world']\n",
            "[3, 99.9, 'adarsh']\n",
            "p is extended with q(p+q) [1, 33.3, 'hello', 2, 66.6, 'world']\n",
            "p is extended with r(p+r) [1, 33.3, 'hello', 2, 66.6, 'world', 3, 99.9, 'adarsh']\n"
          ]
        }
      ]
    },
    {
      "cell_type": "code",
      "source": [
        "#list insert method is use to insert value at the index value\n",
        "l=[1,22.2,\"hello\"]\n",
        "q=l.insert(2,21)#insert(index value,value)\n",
        "print(l)\n",
        "print(q)"
      ],
      "metadata": {
        "colab": {
          "base_uri": "https://localhost:8080/"
        },
        "id": "z5RRL50vKS8B",
        "outputId": "bd105850-6b18-4c26-f46b-35aa40fa894a"
      },
      "execution_count": null,
      "outputs": [
        {
          "output_type": "stream",
          "name": "stdout",
          "text": [
            "[1, 22.2, 21, 'hello']\n",
            "None\n"
          ]
        }
      ]
    },
    {
      "cell_type": "code",
      "source": [
        "l=[1,22.3,\"hello wolrd\",5626623]\n",
        "print(len(l))\n",
        "print(l)\n",
        "q=l.remove(\"hello wolrd\")\n",
        "print(type(q))\n",
        "print(\"'hello wolrd' at 2 index is removed from the list \",l)\n",
        "l[2]=\"hello world\"\n",
        "print(\"at index 2 we updated the value fron it and changed to it as hello world\",l)\n",
        "p=l.insert(2,\"hello my self\")\n",
        "print(l)\n",
        "q=l.append(34)\n",
        "print(l)\n"
      ],
      "metadata": {
        "colab": {
          "base_uri": "https://localhost:8080/"
        },
        "id": "srz7d1r9MDcU",
        "outputId": "a286dcbb-a23b-4011-a3ba-2819c650b3ca"
      },
      "execution_count": null,
      "outputs": [
        {
          "output_type": "stream",
          "name": "stdout",
          "text": [
            "4\n",
            "[1, 22.3, 'hello wolrd', 5626623]\n",
            "<class 'NoneType'>\n",
            "'hello wolrd' at 2 index is removed from the list  [1, 22.3, 5626623]\n",
            "at index 2 we updated the value fron it and changed to it as hello world [1, 22.3, 'hello world']\n",
            "[1, 22.3, 'hello my self', 'hello world']\n",
            "[1, 22.3, 'hello my self', 'hello world', 34]\n"
          ]
        }
      ]
    },
    {
      "cell_type": "code",
      "source": [
        "l=[22,4.5,\"hello world\",True]\n",
        "p=l.count(l)\n",
        "print(l)\n",
        "print(p)"
      ],
      "metadata": {
        "colab": {
          "base_uri": "https://localhost:8080/"
        },
        "id": "xXnEMxkrNVT-",
        "outputId": "ad45d201-7938-44d2-f5ed-9c0af5f69dfd"
      },
      "execution_count": null,
      "outputs": [
        {
          "output_type": "stream",
          "name": "stdout",
          "text": [
            "[22, 4.5, 'hello world', True]\n",
            "0\n"
          ]
        }
      ]
    },
    {
      "cell_type": "code",
      "source": [
        "def add(a,b):\n",
        "  \"\"\"This print the sum of two string\"\"\"\n",
        "  print(a+b)\n",
        "print(add.__doc__)\n",
        "add(6,3)"
      ],
      "metadata": {
        "id": "XWxIHw7CPa1L",
        "colab": {
          "base_uri": "https://localhost:8080/"
        },
        "outputId": "069d8b90-aaf7-48c1-d8b1-f325e8e07eed"
      },
      "execution_count": null,
      "outputs": [
        {
          "output_type": "stream",
          "name": "stdout",
          "text": [
            "This print the sum of two string\n",
            "9\n"
          ]
        }
      ]
    },
    {
      "cell_type": "code",
      "source": [
        "def addfunc(a,b):\n",
        "     \"\"\"This function adds two numbers.This is docstring.\"\"\"\n",
        "     print(a+b)\n",
        "\n",
        "print(addfunc.__doc__)\n",
        "addfunc(12,13)"
      ],
      "metadata": {
        "colab": {
          "base_uri": "https://localhost:8080/"
        },
        "id": "D7b1FbpTIOLh",
        "outputId": "1037cde0-aa96-4b14-a597-dfddc0df68be"
      },
      "execution_count": null,
      "outputs": [
        {
          "output_type": "stream",
          "name": "stdout",
          "text": [
            "This function adds two numbers.This is docstring.\n",
            "25\n"
          ]
        }
      ]
    }
  ]
}