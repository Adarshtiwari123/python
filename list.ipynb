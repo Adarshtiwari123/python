{
  "nbformat": 4,
  "nbformat_minor": 0,
  "metadata": {
    "colab": {
      "provenance": [],
      "collapsed_sections": []
    },
    "kernelspec": {
      "name": "python3",
      "display_name": "Python 3"
    },
    "language_info": {
      "name": "python"
    }
  },
  "cells": [
    {
      "cell_type": "code",
      "execution_count": null,
      "metadata": {
        "colab": {
          "base_uri": "https://localhost:8080/"
        },
        "id": "LqyRILFxquT-",
        "outputId": "2d54cede-647b-46e6-9ef7-5c3aec2a4b63"
      },
      "outputs": [
        {
          "output_type": "stream",
          "name": "stdout",
          "text": [
            "<class 'list'> []\n"
          ]
        }
      ],
      "source": [
        "#list:list is a collection of group of indeviduals as single entity,dubicate are allowed .\n",
        "#collection of heterogeneous objects  are allowed\n",
        "#syntax list_name= [ 'values',values ]\n",
        "#list is mutable  i.e is is a change when your want to update\n",
        "#list is also support both positive and negative indexing\n",
        "list=[ ] #empty list \n",
        "print(type(list),list)"
      ]
    },
    {
      "cell_type": "code",
      "source": [
        "list0=['prakhar',1000.0,'noida',18,True]\n",
        "print(list0[0])\n",
        "print(list0[1])\n",
        "print(list0[2])\n",
        "print(list0[3])"
      ],
      "metadata": {
        "colab": {
          "base_uri": "https://localhost:8080/"
        },
        "id": "HDkiU6ps8X6F",
        "outputId": "5deaec13-1fc5-4185-bbd8-9acead61541c"
      },
      "execution_count": null,
      "outputs": [
        {
          "output_type": "stream",
          "name": "stdout",
          "text": [
            "prakhar\n",
            "1000.0\n",
            "noida\n",
            "18\n"
          ]
        }
      ]
    },
    {
      "cell_type": "code",
      "source": [
        "list=[100,'adarsh',10.9,True]\n",
        "for i in list:\n",
        "  print(i)"
      ],
      "metadata": {
        "colab": {
          "base_uri": "https://localhost:8080/"
        },
        "id": "mcfm27TX9Fox",
        "outputId": "7bcca517-6999-4a70-e735-1c26c4ead006"
      },
      "execution_count": null,
      "outputs": [
        {
          "output_type": "stream",
          "name": "stdout",
          "text": [
            "100\n",
            "adarsh\n",
            "10.9\n",
            "True\n"
          ]
        }
      ]
    },
    {
      "cell_type": "code",
      "source": [
        "lit=[100,200.0,'adarsh']\n",
        "print(type(lit),lit)"
      ],
      "metadata": {
        "colab": {
          "base_uri": "https://localhost:8080/"
        },
        "id": "ayPu0Ibju0sb",
        "outputId": "f8dca8a4-e7b5-44d7-bac1-ea514f75bf7e"
      },
      "execution_count": null,
      "outputs": [
        {
          "output_type": "stream",
          "name": "stdout",
          "text": [
            "<class 'list'> [100, 200.0, 'adarsh']\n"
          ]
        }
      ]
    },
    {
      "cell_type": "code",
      "source": [
        "list0=['prakhar',1000.0,'noida',18,True]\n",
        "print(type(list0),list0)\n",
        "list1=[1000,23,1678,7388]\n",
        "print(type(list1),list1)\n",
        "list2=['pralhar','adarsh','harshit']\n",
        "print(type(list2),list2)\n",
        "list3=[10.9,9.0,922.2] \n",
        "print(type(list3),list3)\n",
        "list4=[True,False]\n",
        "print(type(list4),list4)"
      ],
      "metadata": {
        "id": "ItRHsLkptXSa"
      },
      "execution_count": null,
      "outputs": []
    },
    {
      "cell_type": "code",
      "source": [
        "#li=list(range(0,10,2))\n",
        "#print(li)\n",
        "#print(type(li))\n",
        "\n"
      ],
      "metadata": {
        "id": "wLhQBd8ewT7H"
      },
      "execution_count": null,
      "outputs": []
    },
    {
      "cell_type": "code",
      "source": [
        "l=['','','','']\n",
        "for i in range(4):\n",
        "  l[i]=input('Enter value->')\n",
        "print(l)"
      ],
      "metadata": {
        "colab": {
          "base_uri": "https://localhost:8080/",
          "height": 252
        },
        "id": "9c5a3l3K9zr2",
        "outputId": "c5a53322-eb51-499d-ad3f-4c6f404ca9f4"
      },
      "execution_count": null,
      "outputs": [
        {
          "name": "stdout",
          "output_type": "stream",
          "text": [
            "Enter value->10\n",
            "Enter value->20\n"
          ]
        },
        {
          "output_type": "error",
          "ename": "IndexError",
          "evalue": "ignored",
          "traceback": [
            "\u001b[0;31m---------------------------------------------------------------------------\u001b[0m",
            "\u001b[0;31mIndexError\u001b[0m                                Traceback (most recent call last)",
            "\u001b[0;32m<ipython-input-9-328693038d46>\u001b[0m in \u001b[0;36m<module>\u001b[0;34m\u001b[0m\n\u001b[1;32m      1\u001b[0m \u001b[0ml\u001b[0m\u001b[0;34m=\u001b[0m\u001b[0;34m[\u001b[0m\u001b[0;34m''\u001b[0m\u001b[0;34m]\u001b[0m\u001b[0;34m\u001b[0m\u001b[0;34m\u001b[0m\u001b[0m\n\u001b[1;32m      2\u001b[0m \u001b[0;32mfor\u001b[0m \u001b[0mi\u001b[0m \u001b[0;32min\u001b[0m \u001b[0mrange\u001b[0m\u001b[0;34m(\u001b[0m\u001b[0;36m4\u001b[0m\u001b[0;34m)\u001b[0m\u001b[0;34m:\u001b[0m\u001b[0;34m\u001b[0m\u001b[0;34m\u001b[0m\u001b[0m\n\u001b[0;32m----> 3\u001b[0;31m   \u001b[0ml\u001b[0m\u001b[0;34m[\u001b[0m\u001b[0mi\u001b[0m\u001b[0;34m]\u001b[0m\u001b[0;34m=\u001b[0m\u001b[0minput\u001b[0m\u001b[0;34m(\u001b[0m\u001b[0;34m'Enter value->'\u001b[0m\u001b[0;34m)\u001b[0m\u001b[0;34m\u001b[0m\u001b[0;34m\u001b[0m\u001b[0m\n\u001b[0m\u001b[1;32m      4\u001b[0m \u001b[0mprint\u001b[0m\u001b[0;34m(\u001b[0m\u001b[0ml\u001b[0m\u001b[0;34m)\u001b[0m\u001b[0;34m\u001b[0m\u001b[0;34m\u001b[0m\u001b[0m\n",
            "\u001b[0;31mIndexError\u001b[0m: list assignment index out of range"
          ]
        }
      ]
    },
    {
      "cell_type": "code",
      "source": [
        "ss=input(\"enter your string\")\n",
        "s=ss.split()\n",
        "print(s,type(s))\n",
        "['p','r','a','k','h','a','r']"
      ],
      "metadata": {
        "colab": {
          "base_uri": "https://localhost:8080/"
        },
        "id": "afQU6ts8_sCL",
        "outputId": "a9643725-c307-4452-8232-18f9d339559a"
      },
      "execution_count": null,
      "outputs": [
        {
          "output_type": "stream",
          "name": "stdout",
          "text": [
            "enter your stringprakhar\n",
            "['prakhar'] <class 'list'>\n"
          ]
        }
      ]
    },
    {
      "cell_type": "code",
      "source": [
        "s=\"prakhar is a good programmer\"\n",
        "ss=s.split()\n",
        "print(ss,type(ss))"
      ],
      "metadata": {
        "colab": {
          "base_uri": "https://localhost:8080/"
        },
        "id": "yXCr67SECxzi",
        "outputId": "36037f74-cb79-4b02-ca56-497bb5dcd66a"
      },
      "execution_count": null,
      "outputs": [
        {
          "output_type": "stream",
          "name": "stdout",
          "text": [
            "['prakhar', 'is', 'a', 'good', 'programmer'] <class 'list'>\n"
          ]
        }
      ]
    },
    {
      "cell_type": "code",
      "source": [
        "# we can also access the slicing element of a listby using slicing[begin:end:step]\n",
        "#perform in a two index positive and negative index\n",
        "l=[10,20,30]\n",
        "print(l[0])\n",
        "print(l[1])\n",
        "print(l[2])\n"
      ],
      "metadata": {
        "colab": {
          "base_uri": "https://localhost:8080/"
        },
        "id": "C8j_jeJ7DzIn",
        "outputId": "6f21aec3-17a8-43e7-c80d-3825ad208cb8"
      },
      "execution_count": null,
      "outputs": [
        {
          "output_type": "stream",
          "name": "stdout",
          "text": [
            "10\n",
            "20\n",
            "30\n",
            "[10]\n"
          ]
        }
      ]
    },
    {
      "cell_type": "code",
      "source": [
        "#slicing  syntax \n",
        "#list0=list[begin:end:step]\n",
        "#step value is always be 1\n",
        "#begin value is 0\n",
        "#end value\n",
        "#list=[1,20,30,40,32,22,33,55,66,10,210]\n",
        "#[20,30,40,32,22,33]\n",
        "#[1,20,30,40,32,]"
      ],
      "metadata": {
        "id": "d4onWncODGlv"
      },
      "execution_count": null,
      "outputs": []
    },
    {
      "cell_type": "code",
      "source": [
        "n=[0,1,2,3,4,5,6,7,8,9,10]\n",
        "#print(len(n))\n",
        "i=0\n",
        "while(i<=10):\n",
        "  print(n[i])\n",
        "  i=i+1\n",
        "print(\"index value is this\",i)"
      ],
      "metadata": {
        "colab": {
          "base_uri": "https://localhost:8080/"
        },
        "id": "47I5RUYnGghg",
        "outputId": "aed505b3-2674-4603-f84b-7782bb630253"
      },
      "execution_count": null,
      "outputs": [
        {
          "output_type": "stream",
          "name": "stdout",
          "text": [
            "0\n",
            "1\n",
            "2\n",
            "3\n",
            "4\n",
            "5\n",
            "6\n",
            "7\n",
            "8\n",
            "9\n",
            "10\n",
            "index value is this 11\n"
          ]
        }
      ]
    },
    {
      "cell_type": "code",
      "source": [
        "l1=[1,200,21,2300,20,30,22,31,21] #l=6\n",
        "for i in l1: #0-5\n",
        "  if i%2==0:\n",
        "    print(i)\n"
      ],
      "metadata": {
        "colab": {
          "base_uri": "https://localhost:8080/"
        },
        "id": "1fzATf2WIBmA",
        "outputId": "2bf88d1c-dbce-4afb-cedd-6c02aa54c427"
      },
      "execution_count": null,
      "outputs": [
        {
          "output_type": "stream",
          "name": "stdout",
          "text": [
            "200\n",
            "2300\n",
            "20\n",
            "30\n",
            "22\n"
          ]
        }
      ]
    },
    {
      "cell_type": "code",
      "source": [
        "#function for the list\n",
        "#1:len()\n",
        "#if you have  an integer value in form of string then the value can be modify\n",
        "l=[10,20,30,40,40,'100']\n",
        "s=l[5]=70\n",
        "print(s)\n",
        "print(l)\n",
        "n=len(l)\n",
        "print(\"the length of a string: \",n)"
      ],
      "metadata": {
        "colab": {
          "base_uri": "https://localhost:8080/"
        },
        "id": "ze-o36bE7PlN",
        "outputId": "6769d02b-ffef-4014-c659-3da8561bb26b"
      },
      "execution_count": null,
      "outputs": [
        {
          "output_type": "stream",
          "name": "stdout",
          "text": [
            "70\n",
            "[10, 20, 30, 40, 40, 70]\n",
            "the length of a string:  6\n"
          ]
        }
      ]
    },
    {
      "cell_type": "code",
      "source": [
        "#Count():no of occunce of any specific item in a list\n",
        "n=[10,20,30,30,40]\n",
        "print(n.count(1))\n",
        "print(n.count(10))\n",
        "print(n.count(20))\n",
        "print(n.count(30))\n",
        "print(n.count(100))\n",
        "#bydefault it returns zero\n"
      ],
      "metadata": {
        "colab": {
          "base_uri": "https://localhost:8080/"
        },
        "id": "GtrM-rHS9bxm",
        "outputId": "3d2add80-717f-4b40-d718-8a17eee1203c"
      },
      "execution_count": null,
      "outputs": [
        {
          "output_type": "stream",
          "name": "stdout",
          "text": [
            "0\n",
            "1\n",
            "1\n",
            "2\n",
            "0\n"
          ]
        }
      ]
    },
    {
      "cell_type": "code",
      "source": [
        "#index(): returns the specific  element of a list\n",
        "#repeted item reads only one t\n",
        "n=[10,20,20,30,40,50]\n",
        "print(n.index(10))\n",
        "print(n.index(20))\n",
        "print(n.index(30))\n",
        "print(n.index(40))\n",
        "print(n.index(50))"
      ],
      "metadata": {
        "colab": {
          "base_uri": "https://localhost:8080/"
        },
        "id": "uKZtDkME-NbZ",
        "outputId": "b1bb3b96-3aef-4034-8eaa-5356f7d9a9a2"
      },
      "execution_count": null,
      "outputs": [
        {
          "output_type": "stream",
          "name": "stdout",
          "text": [
            "0\n",
            "2\n",
            "3\n",
            "4\n",
            "5\n"
          ]
        }
      ]
    },
    {
      "cell_type": "code",
      "source": [
        "#append(): it add the element at the end of list.\n",
        "#insert()\n",
        "#extend()\n",
        "#remove()\n",
        "#pop()\n",
        "l=[]\n",
        "l.append('prakhar')\n",
        "l.append('adarsh')\n",
        "l.append('ravi')\n",
        "print(l)\n",
        "li=['prakhar','adarsh']\n",
        "li.append(\"ravi\")\n",
        "li.append(\"keshav\")\n",
        "li.append(\"divu\")\n",
        "print(li)"
      ],
      "metadata": {
        "colab": {
          "base_uri": "https://localhost:8080/"
        },
        "id": "dTXpDSwu_bNC",
        "outputId": "c8678cd6-f3b8-43ee-eff9-8dec60d945d8"
      },
      "execution_count": null,
      "outputs": [
        {
          "output_type": "stream",
          "name": "stdout",
          "text": [
            "['prakhar', 'adarsh', 'ravi']\n",
            "['prakhar', 'adarsh', 'ravi', 'keshav', 'divu']\n"
          ]
        }
      ]
    },
    {
      "cell_type": "code",
      "source": [
        "#wap to insert the items in a list by the append function\n",
        "li=[]\n",
        "x=int(input('Enter your list limit .'))\n",
        "for i in range(x):\n",
        "  y=input('Enter the string->')\n",
        "  li.append(y)\n",
        "print(li)\n"
      ],
      "metadata": {
        "colab": {
          "base_uri": "https://localhost:8080/"
        },
        "id": "RVfFWBh0AOwS",
        "outputId": "ffd6c617-dec7-47ef-d81e-d41dc4f32a36"
      },
      "execution_count": null,
      "outputs": [
        {
          "output_type": "stream",
          "name": "stdout",
          "text": [
            "Enter number of values to insert->5\n",
            "Enter the string->10\n",
            "Enter the string->10\n",
            "Enter the string->20\n",
            "Enter the string->30\n",
            "Enter the string->40\n",
            "['10', '10', '20', '30', '40']\n"
          ]
        }
      ]
    },
    {
      "cell_type": "code",
      "source": [
        "li=[]\n",
        "for i in range(11):\n",
        "  li.append(i)\n",
        "print(li)"
      ],
      "metadata": {
        "colab": {
          "base_uri": "https://localhost:8080/"
        },
        "id": "b_j1Y-DyBwvn",
        "outputId": "d1ab172a-7930-4b91-9557-516402147443"
      },
      "execution_count": null,
      "outputs": [
        {
          "output_type": "stream",
          "name": "stdout",
          "text": [
            "[0, 1, 2, 3, 4, 5, 6, 7, 8, 9, 10]\n"
          ]
        }
      ]
    },
    {
      "cell_type": "code",
      "source": [
        "li=[]\n",
        "for i in range(31):\n",
        "  if i%2!=0:\n",
        "    li.append(i)\n",
        "  \n",
        "print(li)"
      ],
      "metadata": {
        "colab": {
          "base_uri": "https://localhost:8080/"
        },
        "id": "3z2v7vgHCTT1",
        "outputId": "939f08b4-f966-46a6-eb91-e04dd0ca1b0a"
      },
      "execution_count": null,
      "outputs": [
        {
          "output_type": "stream",
          "name": "stdout",
          "text": [
            "[1, 3, 5, 7, 9, 11, 13, 15, 17, 19, 21, 23, 25, 27, 29]\n"
          ]
        }
      ]
    },
    {
      "cell_type": "code",
      "source": [
        "#insert(): to insert an element by the specific position.\n",
        "#element store at the specific point insertion of a new value\n",
        "#in positive index value added at right side (1+1=2)\n",
        "#in negative index value added at left side (-1 +-1)=-2\n",
        "n=[1,2,3,4,5,6,10]\n",
        "m=len(n)\n",
        "print(m)\n",
        "n.insert(3,44)\n",
        "print(n)\n",
        "n.insert(5,54)\n",
        "print(n)\n",
        "n.insert(-1,100)\n",
        "print(n)\n",
        "m=n.index(100)\n",
        "print(m)\n"
      ],
      "metadata": {
        "colab": {
          "base_uri": "https://localhost:8080/"
        },
        "id": "MnAVXohgCu6a",
        "outputId": "e58746ce-1788-4475-c7ca-82d8041f8d87"
      },
      "execution_count": null,
      "outputs": [
        {
          "output_type": "stream",
          "name": "stdout",
          "text": [
            "7\n",
            "[1, 2, 3, 44, 4, 5, 6, 10]\n",
            "[1, 2, 3, 44, 4, 54, 5, 6, 10]\n",
            "[1, 2, 3, 44, 4, 54, 5, 6, 100, 10]\n",
            "8\n"
          ]
        }
      ]
    },
    {
      "cell_type": "code",
      "source": [
        "#extend()= to add the items of a list into another list\n",
        "#we can add the item in a  end list\n",
        "l1=['prakhar','adarsh','ravi','harshit','raghav']\n",
        "print(l1)\n",
        "l2=['jain','tiwari','kashup','dixit','goel']\n",
        "print(l2)\n",
        "l3=['j','t','k','d','g']\n",
        "print(l3)\n",
        "l2.extend(l3)\n",
        "l1.extend(l2)\n",
        "print(\"both list are extended to the one list\",l1)"
      ],
      "metadata": {
        "colab": {
          "base_uri": "https://localhost:8080/"
        },
        "id": "HTMkjY4WF7bh",
        "outputId": "b2f27828-2275-43b9-8f2a-8d3362f5b8c9"
      },
      "execution_count": null,
      "outputs": [
        {
          "output_type": "stream",
          "name": "stdout",
          "text": [
            "['prakhar', 'adarsh', 'ravi', 'harshit', 'raghav']\n",
            "['jain', 'tiwari', 'kashup', 'dixit', 'goel']\n",
            "['j', 't', 'k', 'd', 'g']\n",
            "both list are extended to the one list ['prakhar', 'adarsh', 'ravi', 'harshit', 'raghav', 'jain', 'tiwari', 'kashup', 'dixit', 'goel', 'jain', 'tiwari', 'kashup', 'dixit', 'goel', 'j', 't', 'k', 'd', 'g']\n"
          ]
        }
      ]
    },
    {
      "cell_type": "code",
      "source": [
        "#extend() is also used to add the items in a list with the help of slices\n",
        "order=['dosa','burgur','pizza']\n",
        "order.extend('cold-drink')\n",
        "print(order)\n",
        "for i in order:\n",
        "  print(i,end=\"\")\n"
      ],
      "metadata": {
        "colab": {
          "base_uri": "https://localhost:8080/"
        },
        "id": "hmx7abaoIwvy",
        "outputId": "b073f2f5-13d3-4d99-b2f5-fa691796c255"
      },
      "execution_count": null,
      "outputs": [
        {
          "output_type": "stream",
          "name": "stdout",
          "text": [
            "['dosa', 'burgur', 'pizza', 'c', 'o', 'l', 'd', '-', 'd', 'r', 'i', 'n', 'k']\n",
            "dosaburgurpizzacold-drink"
          ]
        }
      ]
    },
    {
      "cell_type": "code",
      "source": [
        "#remove():it is used to remove the dublicate items or specific items from the list.\n",
        "n=[10,20,30,40,50]\n",
        "n.remove(10)\n",
        "print(n)\n"
      ],
      "metadata": {
        "colab": {
          "base_uri": "https://localhost:8080/"
        },
        "id": "_L8HPLuEJnai",
        "outputId": "15faaa27-bab6-4c94-ed52-d8699f277c00"
      },
      "execution_count": null,
      "outputs": [
        {
          "output_type": "stream",
          "name": "stdout",
          "text": [
            "[20, 30, 40, 50]\n"
          ]
        }
      ]
    },
    {
      "cell_type": "code",
      "source": [
        "#pop():it removes the last element from the list\n",
        "n=[10,20,30,40,50]\n",
        "print(n.pop())\n",
        "print(n)\n"
      ],
      "metadata": {
        "colab": {
          "base_uri": "https://localhost:8080/"
        },
        "id": "KHoW4FptIkNA",
        "outputId": "5a39bb9b-369c-481c-8037-662e683e599b"
      },
      "execution_count": null,
      "outputs": [
        {
          "output_type": "stream",
          "name": "stdout",
          "text": [
            "50\n",
            "[10, 20, 30, 40]\n"
          ]
        }
      ]
    },
    {
      "cell_type": "code",
      "source": [
        "n=[]\n",
        "print(n)"
      ],
      "metadata": {
        "colab": {
          "base_uri": "https://localhost:8080/"
        },
        "id": "t3GWVKnxLbBH",
        "outputId": "e41d8465-4da7-4428-eacd-118887252456"
      },
      "execution_count": null,
      "outputs": [
        {
          "output_type": "stream",
          "name": "stdout",
          "text": [
            "[]\n"
          ]
        }
      ]
    },
    {
      "cell_type": "code",
      "source": [
        "#difeernce between pop(),remove(),append(),extend(),index()"
      ],
      "metadata": {
        "id": "lnI_rzi8LAV3"
      },
      "execution_count": null,
      "outputs": []
    },
    {
      "cell_type": "code",
      "source": [],
      "metadata": {
        "id": "FDnz4ILLGI50"
      },
      "execution_count": null,
      "outputs": []
    }
  ]
}