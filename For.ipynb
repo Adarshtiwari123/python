{
  "nbformat": 4,
  "nbformat_minor": 0,
  "metadata": {
    "colab": {
      "provenance": []
    },
    "kernelspec": {
      "name": "python3",
      "display_name": "Python 3"
    },
    "language_info": {
      "name": "python"
    }
  },
  "cells": [
    {
      "cell_type": "code",
      "metadata": {
        "colab": {
          "base_uri": "https://localhost:8080/"
        },
        "id": "sR4W0bPnBbdg",
        "outputId": "a60ffd48-927e-4685-e1ee-7693fc92f22a"
      },
      "source": [
        "for i in range(11):\n",
        "  print(i)"
      ],
      "execution_count": null,
      "outputs": [
        {
          "output_type": "stream",
          "name": "stdout",
          "text": [
            "0\n",
            "1\n",
            "2\n",
            "3\n",
            "4\n",
            "5\n",
            "6\n",
            "7\n",
            "8\n",
            "9\n",
            "10\n"
          ]
        }
      ]
    },
    {
      "cell_type": "code",
      "source": [
        "age=18\n",
        "\n",
        "if age==18:\n",
        "  print(\"eligibleeligiblefir\")"
      ],
      "metadata": {
        "colab": {
          "base_uri": "https://localhost:8080/"
        },
        "id": "v4TGv5bsB6aX",
        "outputId": "cd54851a-ae6d-4892-f06d-864988b501df"
      },
      "execution_count": null,
      "outputs": [
        {
          "output_type": "stream",
          "name": "stdout",
          "text": [
            "eligibleeligiblefir\n"
          ]
        }
      ]
    },
    {
      "cell_type": "code",
      "metadata": {
        "colab": {
          "base_uri": "https://localhost:8080/"
        },
        "id": "tZlsMxMeEzCj",
        "outputId": "7aa31efa-3797-434f-ad44-a148259aea09"
      },
      "source": [
        "for i in range(1,10):\n",
        "  if(i%2==1):\n",
        "    print(i) "
      ],
      "execution_count": null,
      "outputs": [
        {
          "output_type": "stream",
          "name": "stdout",
          "text": [
            "1\n",
            "3\n",
            "5\n",
            "7\n",
            "9\n"
          ]
        }
      ]
    },
    {
      "cell_type": "code",
      "metadata": {
        "colab": {
          "base_uri": "https://localhost:8080/"
        },
        "id": "D_xSeVb9Gc-a",
        "outputId": "7966b286-39be-4200-8716-21be4be1d432"
      },
      "source": [
        "#print even number \n",
        "for i in range(0,11,2):\n",
        "  print(i)"
      ],
      "execution_count": null,
      "outputs": [
        {
          "output_type": "stream",
          "name": "stdout",
          "text": [
            "0\n",
            "2\n",
            "4\n",
            "6\n",
            "8\n",
            "10\n"
          ]
        }
      ]
    },
    {
      "cell_type": "code",
      "metadata": {
        "colab": {
          "base_uri": "https://localhost:8080/"
        },
        "id": "Z3fifvUyGpiZ",
        "outputId": "3520a697-e349-4e0a-8284-63c6b36c1099"
      },
      "source": [
        "for i in range(0,11,2):\n",
        "  print(i)"
      ],
      "execution_count": null,
      "outputs": [
        {
          "output_type": "stream",
          "name": "stdout",
          "text": [
            "0\n",
            "2\n",
            "4\n",
            "6\n",
            "8\n",
            "10\n"
          ]
        }
      ]
    },
    {
      "cell_type": "code",
      "metadata": {
        "colab": {
          "base_uri": "https://localhost:8080/"
        },
        "id": "X5z90IB1Ig6W",
        "outputId": "54b10c40-20c1-464d-848e-693ce88be839"
      },
      "source": [
        "for i in range(5,50,5):\n",
        "  print(i)"
      ],
      "execution_count": null,
      "outputs": [
        {
          "output_type": "stream",
          "name": "stdout",
          "text": [
            "5\n",
            "10\n",
            "15\n",
            "20\n",
            "25\n",
            "30\n",
            "35\n",
            "40\n",
            "45\n"
          ]
        }
      ]
    },
    {
      "cell_type": "code",
      "metadata": {
        "colab": {
          "base_uri": "https://localhost:8080/"
        },
        "id": "HgHuk91CJ48-",
        "outputId": "315629c5-bc7d-4287-9d32-60d065c95769"
      },
      "source": [
        "for i in range(-1,-11,-1):\n",
        "  print(i)"
      ],
      "execution_count": null,
      "outputs": [
        {
          "output_type": "stream",
          "name": "stdout",
          "text": [
            "-1\n",
            "-2\n",
            "-3\n",
            "-4\n",
            "-5\n",
            "-6\n",
            "-7\n",
            "-8\n",
            "-9\n",
            "-10\n"
          ]
        }
      ]
    },
    {
      "cell_type": "code",
      "metadata": {
        "colab": {
          "base_uri": "https://localhost:8080/"
        },
        "id": "PrvuBmCVKYSd",
        "outputId": "f7d81340-1fc8-445f-dbc1-1c9ef81920d0"
      },
      "source": [
        "a=-1\n",
        "for i in range(-1,-11,-1):\n",
        "  print('a',a*i)"
      ],
      "execution_count": null,
      "outputs": [
        {
          "output_type": "stream",
          "name": "stdout",
          "text": [
            "a 1\n",
            "a 2\n",
            "a 3\n",
            "a 4\n",
            "a 5\n",
            "a 6\n",
            "a 7\n",
            "a 8\n",
            "a 9\n",
            "a 10\n"
          ]
        }
      ]
    },
    {
      "cell_type": "code",
      "metadata": {
        "colab": {
          "base_uri": "https://localhost:8080/"
        },
        "id": "f1Oz5BFQOFDF",
        "outputId": "8ed10caf-89c6-4eba-9ce0-85459ce3948b"
      },
      "source": [
        "i=1\n",
        "while(i<10):\n",
        "  print(i)\n",
        "  i=i+1\n",
        " \n"
      ],
      "execution_count": null,
      "outputs": [
        {
          "output_type": "stream",
          "name": "stdout",
          "text": [
            "1\n",
            "2\n",
            "3\n",
            "4\n",
            "5\n",
            "6\n",
            "7\n",
            "8\n",
            "9\n"
          ]
        }
      ]
    },
    {
      "cell_type": "code",
      "metadata": {
        "colab": {
          "base_uri": "https://localhost:8080/"
        },
        "id": "6y7g1inFRIRh",
        "outputId": "68e72c3e-711f-4e3a-e1cc-a10e07d1d20b"
      },
      "source": [
        "i=0\n",
        "while(i<10):\n",
        "  print(i)\n",
        "  i+=1\n",
        "  "
      ],
      "execution_count": null,
      "outputs": [
        {
          "output_type": "stream",
          "name": "stdout",
          "text": [
            "0\n",
            "1\n",
            "2\n",
            "3\n",
            "4\n",
            "5\n",
            "6\n",
            "7\n",
            "8\n",
            "9\n"
          ]
        }
      ]
    },
    {
      "cell_type": "code",
      "metadata": {
        "colab": {
          "base_uri": "https://localhost:8080/"
        },
        "id": "XMCjQNAiTJo9",
        "outputId": "66aee7f6-0f31-4b95-df5e-598b4d65bdda"
      },
      "source": [
        "a=10\n",
        "while(a>=1):\n",
        "  print(a)\n",
        "  a=a-1"
      ],
      "execution_count": null,
      "outputs": [
        {
          "output_type": "stream",
          "name": "stdout",
          "text": [
            "10\n",
            "9\n",
            "8\n",
            "7\n",
            "6\n",
            "5\n",
            "4\n",
            "3\n",
            "2\n",
            "1\n"
          ]
        }
      ]
    },
    {
      "cell_type": "code",
      "metadata": {
        "colab": {
          "base_uri": "https://localhost:8080/"
        },
        "id": "hdyVOnFtSrst",
        "outputId": "03a36309-85c1-4fe0-ddce-594d2d5374b3"
      },
      "source": [
        "a=[10,20,'adarsh',True,2+3j,[2,555]]\n",
        "print(a)\n",
        "a[5]\n",
        "type(a)"
      ],
      "execution_count": null,
      "outputs": [
        {
          "output_type": "stream",
          "name": "stdout",
          "text": [
            "[10, 20, 'adarsh', True, (2+3j), [2, 555]]\n"
          ]
        },
        {
          "output_type": "execute_result",
          "data": {
            "text/plain": [
              "list"
            ]
          },
          "metadata": {},
          "execution_count": 41
        }
      ]
    },
    {
      "cell_type": "code",
      "metadata": {
        "colab": {
          "base_uri": "https://localhost:8080/"
        },
        "id": "2TmL13tHVM7f",
        "outputId": "e4435f9c-ef50-419c-febf-3f1ec198127a"
      },
      "source": [
        "s=['bahubali','adarsh','true']\n",
        "#print(s)\n",
        "s[2:3]\n",
        "s[2:3:3]"
      ],
      "execution_count": null,
      "outputs": [
        {
          "output_type": "execute_result",
          "data": {
            "text/plain": [
              "['true']"
            ]
          },
          "metadata": {},
          "execution_count": 31
        }
      ]
    },
    {
      "cell_type": "code",
      "metadata": {
        "colab": {
          "base_uri": "https://localhost:8080/"
        },
        "id": "wMtMp9qQXeXw",
        "outputId": "5a8d77e5-d903-4e42-9001-e4952b323341"
      },
      "source": [
        "#empty list:\n",
        "z=[2,'34','jack','honey bhai']\n",
        "type(z)\n",
        "z[0]='adarsh'\n",
        "print(z)"
      ],
      "execution_count": null,
      "outputs": [
        {
          "output_type": "stream",
          "name": "stdout",
          "text": [
            "['adarsh', '34', 'jack', 'honey bhai']\n"
          ]
        }
      ]
    },
    {
      "cell_type": "code",
      "metadata": {
        "id": "QccgX51oYwLk"
      },
      "source": [],
      "execution_count": null,
      "outputs": []
    }
  ]
}